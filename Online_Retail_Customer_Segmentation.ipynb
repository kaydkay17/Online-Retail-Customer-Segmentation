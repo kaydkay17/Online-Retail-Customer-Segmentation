{
  "nbformat": 4,
  "nbformat_minor": 0,
  "metadata": {
    "kernelspec": {
      "display_name": "Python 3",
      "language": "python",
      "name": "python3"
    },
    "language_info": {
      "codemirror_mode": {
        "name": "ipython",
        "version": 3
      },
      "file_extension": ".py",
      "mimetype": "text/x-python",
      "name": "python",
      "nbconvert_exporter": "python",
      "pygments_lexer": "ipython3",
      "version": "3.6.6"
    },
    "colab": {
      "name": "Online Retail Customer Segmentation.ipynb",
      "provenance": [],
      "collapsed_sections": [
        "MIq4FBjmRfpf"
      ]
    }
  },
  "cells": [
    {
      "cell_type": "markdown",
      "metadata": {
        "id": "tOGC-qoyhJeX"
      },
      "source": [
        "# <b><u> Project Title : Extraction/identification of major topics & themes discussed in news articles. </u></b>"
      ]
    },
    {
      "cell_type": "markdown",
      "metadata": {
        "id": "Y06xIdG26kRF"
      },
      "source": [
        "## <b> Problem Description </b>\n",
        "\n",
        "### In this project, your task is to identify major customer segments on a transnational data set which contains all the transactions occurring between 01/12/2010 and 09/12/2011 for a UK-based and registered non-store online retail.The company mainly sells unique all-occasion gifts. Many customers of the company are wholesalers."
      ]
    },
    {
      "cell_type": "markdown",
      "metadata": {
        "id": "AlLxAtlziMbP"
      },
      "source": [
        "## <b> Data Description </b>\n",
        "\n",
        "### <b>Attribute Information: </b>\n",
        "\n",
        "* ### InvoiceNo: Invoice number. Nominal, a 6-digit integral number uniquely assigned to each transaction. If this code starts with letter 'c', it indicates a cancellation.\n",
        "* ### StockCode: Product (item) code. Nominal, a 5-digit integral number uniquely assigned to each distinct product.\n",
        "* ### Description: Product (item) name. Nominal.\n",
        "* ### Quantity: The quantities of each product (item) per transaction. Numeric.\n",
        "* ### InvoiceDate: Invice Date and time. Numeric, the day and time when each transaction was generated.\n",
        "* ### UnitPrice: Unit price. Numeric, Product price per unit in sterling.\n",
        "* ### CustomerID: Customer number. Nominal, a 5-digit integral number uniquely assigned to each customer.\n",
        "* ### Country: Country name. Nominal, the name of the country where each customer resides."
      ]
    },
    {
      "cell_type": "markdown",
      "source": [
        "# Importing libs and data"
      ],
      "metadata": {
        "id": "MIq4FBjmRfpf"
      }
    },
    {
      "cell_type": "code",
      "execution_count": 1,
      "metadata": {
        "id": "aGBw98jBS8Tw"
      },
      "outputs": [],
      "source": [
        "# importing libraris for data manipulation and plotting\n",
        "import numpy as np\n",
        "import pandas as pd\n",
        "import matplotlib.pyplot as plt\n",
        "import seaborn as sns\n",
        "\n"
      ]
    },
    {
      "cell_type": "code",
      "execution_count": 2,
      "metadata": {
        "id": "_Xha3oPHHeoy"
      },
      "outputs": [],
      "source": [
        "# setting Parameters for the plots\n",
        "\n",
        "%matplotlib inline\n",
        "\n",
        "plt.rcParams.update({'figure.figsize':(8,5),'figure.dpi':100})"
      ]
    },
    {
      "cell_type": "code",
      "execution_count": 3,
      "metadata": {
        "id": "dzHh8XWXFljR"
      },
      "outputs": [],
      "source": [
        "# For splitting and scaling\n",
        "from sklearn.model_selection import train_test_split\n",
        "from sklearn.preprocessing import MinMaxScaler, StandardScaler"
      ]
    },
    {
      "cell_type": "code",
      "execution_count": 4,
      "metadata": {
        "id": "D5QqW1H5Jlfz"
      },
      "outputs": [],
      "source": [
        "# # Classification models\n",
        "# from sklearn.linear_model import LogisticRegression\n",
        "# from sklearn.ensemble import RandomForestClassifier \n",
        "# from xgboost import XGBClassifier\n",
        "# from sklearn.naive_bayes import GaussianNB\n",
        "\n",
        "# # for Hyperparameter Tuning\n",
        "# from sklearn.model_selection import GridSearchCV, RandomizedSearchCV\n",
        "\n",
        "# # for balancing the dataset\n",
        "# from imblearn.over_sampling import SMOTE"
      ]
    },
    {
      "cell_type": "code",
      "execution_count": 5,
      "metadata": {
        "id": "OtSNpHwNUcM0"
      },
      "outputs": [],
      "source": [
        "# # importing different evaluation metrics\n",
        "\n",
        "# from sklearn.metrics import accuracy_score,confusion_matrix, classification_report\n",
        "# from sklearn.metrics import precision_score\n",
        "# from sklearn.metrics import recall_score\n",
        "# from sklearn.metrics import f1_score\n",
        "# from sklearn.metrics import roc_auc_score\n",
        "# from sklearn.metrics import roc_curve\n",
        "# from sklearn.metrics import auc\n",
        "# from sklearn.metrics import plot_roc_curve\n",
        "# from sklearn.metrics import ConfusionMatrixDisplay"
      ]
    },
    {
      "cell_type": "code",
      "execution_count": 6,
      "metadata": {
        "id": "HavTu4nixFRC"
      },
      "outputs": [],
      "source": [
        "# # ignoring warning for now\n",
        "# import warnings\n",
        "# warnings.filterwarnings('ignore')"
      ]
    },
    {
      "cell_type": "code",
      "source": [
        "# Mounting the google drive\n",
        "\n",
        "from google.colab import drive\n",
        "drive.mount('/content/drive')"
      ],
      "metadata": {
        "colab": {
          "base_uri": "https://localhost:8080/"
        },
        "id": "MZUpI6bXTfej",
        "outputId": "856b8c96-c741-4a6d-d0be-75237faac98e"
      },
      "execution_count": 7,
      "outputs": [
        {
          "output_type": "stream",
          "name": "stdout",
          "text": [
            "Mounted at /content/drive\n"
          ]
        }
      ]
    },
    {
      "cell_type": "code",
      "metadata": {
        "id": "dByMsuzT8Tnw",
        "colab": {
          "base_uri": "https://localhost:8080/"
        },
        "outputId": "2662120c-0e14-456f-bb9f-b6cc29874f34"
      },
      "source": [
        "!pip install xlrd==1.2.0"
      ],
      "execution_count": 8,
      "outputs": [
        {
          "output_type": "stream",
          "name": "stdout",
          "text": [
            "Collecting xlrd==1.2.0\n",
            "  Downloading xlrd-1.2.0-py2.py3-none-any.whl (103 kB)\n",
            "\u001b[?25l\r\u001b[K     |███▏                            | 10 kB 17.4 MB/s eta 0:00:01\r\u001b[K     |██████▍                         | 20 kB 23.0 MB/s eta 0:00:01\r\u001b[K     |█████████▌                      | 30 kB 14.4 MB/s eta 0:00:01\r\u001b[K     |████████████▊                   | 40 kB 5.2 MB/s eta 0:00:01\r\u001b[K     |███████████████▉                | 51 kB 4.9 MB/s eta 0:00:01\r\u001b[K     |███████████████████             | 61 kB 5.7 MB/s eta 0:00:01\r\u001b[K     |██████████████████████▏         | 71 kB 6.0 MB/s eta 0:00:01\r\u001b[K     |█████████████████████████▍      | 81 kB 5.8 MB/s eta 0:00:01\r\u001b[K     |████████████████████████████▋   | 92 kB 6.4 MB/s eta 0:00:01\r\u001b[K     |███████████████████████████████▊| 102 kB 5.6 MB/s eta 0:00:01\r\u001b[K     |████████████████████████████████| 103 kB 5.6 MB/s \n",
            "\u001b[?25hInstalling collected packages: xlrd\n",
            "  Attempting uninstall: xlrd\n",
            "    Found existing installation: xlrd 1.1.0\n",
            "    Uninstalling xlrd-1.1.0:\n",
            "      Successfully uninstalled xlrd-1.1.0\n",
            "Successfully installed xlrd-1.2.0\n"
          ]
        }
      ]
    },
    {
      "cell_type": "markdown",
      "source": [
        "# Exploration"
      ],
      "metadata": {
        "id": "WJIIXxdsUwfP"
      }
    },
    {
      "cell_type": "code",
      "source": [
        "df = pd.read_excel('/content/drive/MyDrive/Colab Notebooks/4. Capstone project ML Clustering/Customer Segmentation/Copy of Online Retail.xlsx')"
      ],
      "metadata": {
        "id": "2pz13LOUSM1Y"
      },
      "execution_count": 10,
      "outputs": []
    },
    {
      "cell_type": "code",
      "source": [
        "df.head()"
      ],
      "metadata": {
        "colab": {
          "base_uri": "https://localhost:8080/",
          "height": 206
        },
        "id": "nlWkxTOSSOPk",
        "outputId": "3a40ff84-0f19-432c-b4ba-d5de0bd97e27"
      },
      "execution_count": 11,
      "outputs": [
        {
          "output_type": "execute_result",
          "data": {
            "text/plain": [
              "  InvoiceNo StockCode                          Description  Quantity  \\\n",
              "0    536365    85123A   WHITE HANGING HEART T-LIGHT HOLDER         6   \n",
              "1    536365     71053                  WHITE METAL LANTERN         6   \n",
              "2    536365    84406B       CREAM CUPID HEARTS COAT HANGER         8   \n",
              "3    536365    84029G  KNITTED UNION FLAG HOT WATER BOTTLE         6   \n",
              "4    536365    84029E       RED WOOLLY HOTTIE WHITE HEART.         6   \n",
              "\n",
              "          InvoiceDate  UnitPrice  CustomerID         Country  \n",
              "0 2010-12-01 08:26:00       2.55     17850.0  United Kingdom  \n",
              "1 2010-12-01 08:26:00       3.39     17850.0  United Kingdom  \n",
              "2 2010-12-01 08:26:00       2.75     17850.0  United Kingdom  \n",
              "3 2010-12-01 08:26:00       3.39     17850.0  United Kingdom  \n",
              "4 2010-12-01 08:26:00       3.39     17850.0  United Kingdom  "
            ],
            "text/html": [
              "\n",
              "  <div id=\"df-c195b9dc-880b-4d32-a4a4-743f3e49f027\">\n",
              "    <div class=\"colab-df-container\">\n",
              "      <div>\n",
              "<style scoped>\n",
              "    .dataframe tbody tr th:only-of-type {\n",
              "        vertical-align: middle;\n",
              "    }\n",
              "\n",
              "    .dataframe tbody tr th {\n",
              "        vertical-align: top;\n",
              "    }\n",
              "\n",
              "    .dataframe thead th {\n",
              "        text-align: right;\n",
              "    }\n",
              "</style>\n",
              "<table border=\"1\" class=\"dataframe\">\n",
              "  <thead>\n",
              "    <tr style=\"text-align: right;\">\n",
              "      <th></th>\n",
              "      <th>InvoiceNo</th>\n",
              "      <th>StockCode</th>\n",
              "      <th>Description</th>\n",
              "      <th>Quantity</th>\n",
              "      <th>InvoiceDate</th>\n",
              "      <th>UnitPrice</th>\n",
              "      <th>CustomerID</th>\n",
              "      <th>Country</th>\n",
              "    </tr>\n",
              "  </thead>\n",
              "  <tbody>\n",
              "    <tr>\n",
              "      <th>0</th>\n",
              "      <td>536365</td>\n",
              "      <td>85123A</td>\n",
              "      <td>WHITE HANGING HEART T-LIGHT HOLDER</td>\n",
              "      <td>6</td>\n",
              "      <td>2010-12-01 08:26:00</td>\n",
              "      <td>2.55</td>\n",
              "      <td>17850.0</td>\n",
              "      <td>United Kingdom</td>\n",
              "    </tr>\n",
              "    <tr>\n",
              "      <th>1</th>\n",
              "      <td>536365</td>\n",
              "      <td>71053</td>\n",
              "      <td>WHITE METAL LANTERN</td>\n",
              "      <td>6</td>\n",
              "      <td>2010-12-01 08:26:00</td>\n",
              "      <td>3.39</td>\n",
              "      <td>17850.0</td>\n",
              "      <td>United Kingdom</td>\n",
              "    </tr>\n",
              "    <tr>\n",
              "      <th>2</th>\n",
              "      <td>536365</td>\n",
              "      <td>84406B</td>\n",
              "      <td>CREAM CUPID HEARTS COAT HANGER</td>\n",
              "      <td>8</td>\n",
              "      <td>2010-12-01 08:26:00</td>\n",
              "      <td>2.75</td>\n",
              "      <td>17850.0</td>\n",
              "      <td>United Kingdom</td>\n",
              "    </tr>\n",
              "    <tr>\n",
              "      <th>3</th>\n",
              "      <td>536365</td>\n",
              "      <td>84029G</td>\n",
              "      <td>KNITTED UNION FLAG HOT WATER BOTTLE</td>\n",
              "      <td>6</td>\n",
              "      <td>2010-12-01 08:26:00</td>\n",
              "      <td>3.39</td>\n",
              "      <td>17850.0</td>\n",
              "      <td>United Kingdom</td>\n",
              "    </tr>\n",
              "    <tr>\n",
              "      <th>4</th>\n",
              "      <td>536365</td>\n",
              "      <td>84029E</td>\n",
              "      <td>RED WOOLLY HOTTIE WHITE HEART.</td>\n",
              "      <td>6</td>\n",
              "      <td>2010-12-01 08:26:00</td>\n",
              "      <td>3.39</td>\n",
              "      <td>17850.0</td>\n",
              "      <td>United Kingdom</td>\n",
              "    </tr>\n",
              "  </tbody>\n",
              "</table>\n",
              "</div>\n",
              "      <button class=\"colab-df-convert\" onclick=\"convertToInteractive('df-c195b9dc-880b-4d32-a4a4-743f3e49f027')\"\n",
              "              title=\"Convert this dataframe to an interactive table.\"\n",
              "              style=\"display:none;\">\n",
              "        \n",
              "  <svg xmlns=\"http://www.w3.org/2000/svg\" height=\"24px\"viewBox=\"0 0 24 24\"\n",
              "       width=\"24px\">\n",
              "    <path d=\"M0 0h24v24H0V0z\" fill=\"none\"/>\n",
              "    <path d=\"M18.56 5.44l.94 2.06.94-2.06 2.06-.94-2.06-.94-.94-2.06-.94 2.06-2.06.94zm-11 1L8.5 8.5l.94-2.06 2.06-.94-2.06-.94L8.5 2.5l-.94 2.06-2.06.94zm10 10l.94 2.06.94-2.06 2.06-.94-2.06-.94-.94-2.06-.94 2.06-2.06.94z\"/><path d=\"M17.41 7.96l-1.37-1.37c-.4-.4-.92-.59-1.43-.59-.52 0-1.04.2-1.43.59L10.3 9.45l-7.72 7.72c-.78.78-.78 2.05 0 2.83L4 21.41c.39.39.9.59 1.41.59.51 0 1.02-.2 1.41-.59l7.78-7.78 2.81-2.81c.8-.78.8-2.07 0-2.86zM5.41 20L4 18.59l7.72-7.72 1.47 1.35L5.41 20z\"/>\n",
              "  </svg>\n",
              "      </button>\n",
              "      \n",
              "  <style>\n",
              "    .colab-df-container {\n",
              "      display:flex;\n",
              "      flex-wrap:wrap;\n",
              "      gap: 12px;\n",
              "    }\n",
              "\n",
              "    .colab-df-convert {\n",
              "      background-color: #E8F0FE;\n",
              "      border: none;\n",
              "      border-radius: 50%;\n",
              "      cursor: pointer;\n",
              "      display: none;\n",
              "      fill: #1967D2;\n",
              "      height: 32px;\n",
              "      padding: 0 0 0 0;\n",
              "      width: 32px;\n",
              "    }\n",
              "\n",
              "    .colab-df-convert:hover {\n",
              "      background-color: #E2EBFA;\n",
              "      box-shadow: 0px 1px 2px rgba(60, 64, 67, 0.3), 0px 1px 3px 1px rgba(60, 64, 67, 0.15);\n",
              "      fill: #174EA6;\n",
              "    }\n",
              "\n",
              "    [theme=dark] .colab-df-convert {\n",
              "      background-color: #3B4455;\n",
              "      fill: #D2E3FC;\n",
              "    }\n",
              "\n",
              "    [theme=dark] .colab-df-convert:hover {\n",
              "      background-color: #434B5C;\n",
              "      box-shadow: 0px 1px 3px 1px rgba(0, 0, 0, 0.15);\n",
              "      filter: drop-shadow(0px 1px 2px rgba(0, 0, 0, 0.3));\n",
              "      fill: #FFFFFF;\n",
              "    }\n",
              "  </style>\n",
              "\n",
              "      <script>\n",
              "        const buttonEl =\n",
              "          document.querySelector('#df-c195b9dc-880b-4d32-a4a4-743f3e49f027 button.colab-df-convert');\n",
              "        buttonEl.style.display =\n",
              "          google.colab.kernel.accessAllowed ? 'block' : 'none';\n",
              "\n",
              "        async function convertToInteractive(key) {\n",
              "          const element = document.querySelector('#df-c195b9dc-880b-4d32-a4a4-743f3e49f027');\n",
              "          const dataTable =\n",
              "            await google.colab.kernel.invokeFunction('convertToInteractive',\n",
              "                                                     [key], {});\n",
              "          if (!dataTable) return;\n",
              "\n",
              "          const docLinkHtml = 'Like what you see? Visit the ' +\n",
              "            '<a target=\"_blank\" href=https://colab.research.google.com/notebooks/data_table.ipynb>data table notebook</a>'\n",
              "            + ' to learn more about interactive tables.';\n",
              "          element.innerHTML = '';\n",
              "          dataTable['output_type'] = 'display_data';\n",
              "          await google.colab.output.renderOutput(dataTable, element);\n",
              "          const docLink = document.createElement('div');\n",
              "          docLink.innerHTML = docLinkHtml;\n",
              "          element.appendChild(docLink);\n",
              "        }\n",
              "      </script>\n",
              "    </div>\n",
              "  </div>\n",
              "  "
            ]
          },
          "metadata": {},
          "execution_count": 11
        }
      ]
    },
    {
      "cell_type": "code",
      "source": [
        "df.tail()"
      ],
      "metadata": {
        "colab": {
          "base_uri": "https://localhost:8080/",
          "height": 206
        },
        "id": "LbYBqj_SSOMl",
        "outputId": "5b3e5961-9b7c-4f6c-9843-f6c50aebbae7"
      },
      "execution_count": 12,
      "outputs": [
        {
          "output_type": "execute_result",
          "data": {
            "text/plain": [
              "       InvoiceNo StockCode                      Description  Quantity  \\\n",
              "541904    581587     22613      PACK OF 20 SPACEBOY NAPKINS        12   \n",
              "541905    581587     22899     CHILDREN'S APRON DOLLY GIRL          6   \n",
              "541906    581587     23254    CHILDRENS CUTLERY DOLLY GIRL          4   \n",
              "541907    581587     23255  CHILDRENS CUTLERY CIRCUS PARADE         4   \n",
              "541908    581587     22138    BAKING SET 9 PIECE RETROSPOT          3   \n",
              "\n",
              "               InvoiceDate  UnitPrice  CustomerID Country  \n",
              "541904 2011-12-09 12:50:00       0.85     12680.0  France  \n",
              "541905 2011-12-09 12:50:00       2.10     12680.0  France  \n",
              "541906 2011-12-09 12:50:00       4.15     12680.0  France  \n",
              "541907 2011-12-09 12:50:00       4.15     12680.0  France  \n",
              "541908 2011-12-09 12:50:00       4.95     12680.0  France  "
            ],
            "text/html": [
              "\n",
              "  <div id=\"df-46e55961-4799-4e11-a487-b284f9275359\">\n",
              "    <div class=\"colab-df-container\">\n",
              "      <div>\n",
              "<style scoped>\n",
              "    .dataframe tbody tr th:only-of-type {\n",
              "        vertical-align: middle;\n",
              "    }\n",
              "\n",
              "    .dataframe tbody tr th {\n",
              "        vertical-align: top;\n",
              "    }\n",
              "\n",
              "    .dataframe thead th {\n",
              "        text-align: right;\n",
              "    }\n",
              "</style>\n",
              "<table border=\"1\" class=\"dataframe\">\n",
              "  <thead>\n",
              "    <tr style=\"text-align: right;\">\n",
              "      <th></th>\n",
              "      <th>InvoiceNo</th>\n",
              "      <th>StockCode</th>\n",
              "      <th>Description</th>\n",
              "      <th>Quantity</th>\n",
              "      <th>InvoiceDate</th>\n",
              "      <th>UnitPrice</th>\n",
              "      <th>CustomerID</th>\n",
              "      <th>Country</th>\n",
              "    </tr>\n",
              "  </thead>\n",
              "  <tbody>\n",
              "    <tr>\n",
              "      <th>541904</th>\n",
              "      <td>581587</td>\n",
              "      <td>22613</td>\n",
              "      <td>PACK OF 20 SPACEBOY NAPKINS</td>\n",
              "      <td>12</td>\n",
              "      <td>2011-12-09 12:50:00</td>\n",
              "      <td>0.85</td>\n",
              "      <td>12680.0</td>\n",
              "      <td>France</td>\n",
              "    </tr>\n",
              "    <tr>\n",
              "      <th>541905</th>\n",
              "      <td>581587</td>\n",
              "      <td>22899</td>\n",
              "      <td>CHILDREN'S APRON DOLLY GIRL</td>\n",
              "      <td>6</td>\n",
              "      <td>2011-12-09 12:50:00</td>\n",
              "      <td>2.10</td>\n",
              "      <td>12680.0</td>\n",
              "      <td>France</td>\n",
              "    </tr>\n",
              "    <tr>\n",
              "      <th>541906</th>\n",
              "      <td>581587</td>\n",
              "      <td>23254</td>\n",
              "      <td>CHILDRENS CUTLERY DOLLY GIRL</td>\n",
              "      <td>4</td>\n",
              "      <td>2011-12-09 12:50:00</td>\n",
              "      <td>4.15</td>\n",
              "      <td>12680.0</td>\n",
              "      <td>France</td>\n",
              "    </tr>\n",
              "    <tr>\n",
              "      <th>541907</th>\n",
              "      <td>581587</td>\n",
              "      <td>23255</td>\n",
              "      <td>CHILDRENS CUTLERY CIRCUS PARADE</td>\n",
              "      <td>4</td>\n",
              "      <td>2011-12-09 12:50:00</td>\n",
              "      <td>4.15</td>\n",
              "      <td>12680.0</td>\n",
              "      <td>France</td>\n",
              "    </tr>\n",
              "    <tr>\n",
              "      <th>541908</th>\n",
              "      <td>581587</td>\n",
              "      <td>22138</td>\n",
              "      <td>BAKING SET 9 PIECE RETROSPOT</td>\n",
              "      <td>3</td>\n",
              "      <td>2011-12-09 12:50:00</td>\n",
              "      <td>4.95</td>\n",
              "      <td>12680.0</td>\n",
              "      <td>France</td>\n",
              "    </tr>\n",
              "  </tbody>\n",
              "</table>\n",
              "</div>\n",
              "      <button class=\"colab-df-convert\" onclick=\"convertToInteractive('df-46e55961-4799-4e11-a487-b284f9275359')\"\n",
              "              title=\"Convert this dataframe to an interactive table.\"\n",
              "              style=\"display:none;\">\n",
              "        \n",
              "  <svg xmlns=\"http://www.w3.org/2000/svg\" height=\"24px\"viewBox=\"0 0 24 24\"\n",
              "       width=\"24px\">\n",
              "    <path d=\"M0 0h24v24H0V0z\" fill=\"none\"/>\n",
              "    <path d=\"M18.56 5.44l.94 2.06.94-2.06 2.06-.94-2.06-.94-.94-2.06-.94 2.06-2.06.94zm-11 1L8.5 8.5l.94-2.06 2.06-.94-2.06-.94L8.5 2.5l-.94 2.06-2.06.94zm10 10l.94 2.06.94-2.06 2.06-.94-2.06-.94-.94-2.06-.94 2.06-2.06.94z\"/><path d=\"M17.41 7.96l-1.37-1.37c-.4-.4-.92-.59-1.43-.59-.52 0-1.04.2-1.43.59L10.3 9.45l-7.72 7.72c-.78.78-.78 2.05 0 2.83L4 21.41c.39.39.9.59 1.41.59.51 0 1.02-.2 1.41-.59l7.78-7.78 2.81-2.81c.8-.78.8-2.07 0-2.86zM5.41 20L4 18.59l7.72-7.72 1.47 1.35L5.41 20z\"/>\n",
              "  </svg>\n",
              "      </button>\n",
              "      \n",
              "  <style>\n",
              "    .colab-df-container {\n",
              "      display:flex;\n",
              "      flex-wrap:wrap;\n",
              "      gap: 12px;\n",
              "    }\n",
              "\n",
              "    .colab-df-convert {\n",
              "      background-color: #E8F0FE;\n",
              "      border: none;\n",
              "      border-radius: 50%;\n",
              "      cursor: pointer;\n",
              "      display: none;\n",
              "      fill: #1967D2;\n",
              "      height: 32px;\n",
              "      padding: 0 0 0 0;\n",
              "      width: 32px;\n",
              "    }\n",
              "\n",
              "    .colab-df-convert:hover {\n",
              "      background-color: #E2EBFA;\n",
              "      box-shadow: 0px 1px 2px rgba(60, 64, 67, 0.3), 0px 1px 3px 1px rgba(60, 64, 67, 0.15);\n",
              "      fill: #174EA6;\n",
              "    }\n",
              "\n",
              "    [theme=dark] .colab-df-convert {\n",
              "      background-color: #3B4455;\n",
              "      fill: #D2E3FC;\n",
              "    }\n",
              "\n",
              "    [theme=dark] .colab-df-convert:hover {\n",
              "      background-color: #434B5C;\n",
              "      box-shadow: 0px 1px 3px 1px rgba(0, 0, 0, 0.15);\n",
              "      filter: drop-shadow(0px 1px 2px rgba(0, 0, 0, 0.3));\n",
              "      fill: #FFFFFF;\n",
              "    }\n",
              "  </style>\n",
              "\n",
              "      <script>\n",
              "        const buttonEl =\n",
              "          document.querySelector('#df-46e55961-4799-4e11-a487-b284f9275359 button.colab-df-convert');\n",
              "        buttonEl.style.display =\n",
              "          google.colab.kernel.accessAllowed ? 'block' : 'none';\n",
              "\n",
              "        async function convertToInteractive(key) {\n",
              "          const element = document.querySelector('#df-46e55961-4799-4e11-a487-b284f9275359');\n",
              "          const dataTable =\n",
              "            await google.colab.kernel.invokeFunction('convertToInteractive',\n",
              "                                                     [key], {});\n",
              "          if (!dataTable) return;\n",
              "\n",
              "          const docLinkHtml = 'Like what you see? Visit the ' +\n",
              "            '<a target=\"_blank\" href=https://colab.research.google.com/notebooks/data_table.ipynb>data table notebook</a>'\n",
              "            + ' to learn more about interactive tables.';\n",
              "          element.innerHTML = '';\n",
              "          dataTable['output_type'] = 'display_data';\n",
              "          await google.colab.output.renderOutput(dataTable, element);\n",
              "          const docLink = document.createElement('div');\n",
              "          docLink.innerHTML = docLinkHtml;\n",
              "          element.appendChild(docLink);\n",
              "        }\n",
              "      </script>\n",
              "    </div>\n",
              "  </div>\n",
              "  "
            ]
          },
          "metadata": {},
          "execution_count": 12
        }
      ]
    },
    {
      "cell_type": "code",
      "source": [
        "df.info()"
      ],
      "metadata": {
        "colab": {
          "base_uri": "https://localhost:8080/"
        },
        "id": "JU-y9rmeSOJp",
        "outputId": "f99b63e3-11d1-4964-9316-97da2e7e170d"
      },
      "execution_count": 13,
      "outputs": [
        {
          "output_type": "stream",
          "name": "stdout",
          "text": [
            "<class 'pandas.core.frame.DataFrame'>\n",
            "RangeIndex: 541909 entries, 0 to 541908\n",
            "Data columns (total 8 columns):\n",
            " #   Column       Non-Null Count   Dtype         \n",
            "---  ------       --------------   -----         \n",
            " 0   InvoiceNo    541909 non-null  object        \n",
            " 1   StockCode    541909 non-null  object        \n",
            " 2   Description  540455 non-null  object        \n",
            " 3   Quantity     541909 non-null  int64         \n",
            " 4   InvoiceDate  541909 non-null  datetime64[ns]\n",
            " 5   UnitPrice    541909 non-null  float64       \n",
            " 6   CustomerID   406829 non-null  float64       \n",
            " 7   Country      541909 non-null  object        \n",
            "dtypes: datetime64[ns](1), float64(2), int64(1), object(4)\n",
            "memory usage: 33.1+ MB\n"
          ]
        }
      ]
    },
    {
      "cell_type": "code",
      "source": [
        "df.describe(include = 'all')"
      ],
      "metadata": {
        "colab": {
          "base_uri": "https://localhost:8080/",
          "height": 512
        },
        "id": "x6lQI4EOWDaz",
        "outputId": "038658b3-48c7-43b1-80fa-694b04751b83"
      },
      "execution_count": 14,
      "outputs": [
        {
          "output_type": "stream",
          "name": "stderr",
          "text": [
            "/usr/local/lib/python3.7/dist-packages/ipykernel_launcher.py:1: FutureWarning: Treating datetime data as categorical rather than numeric in `.describe` is deprecated and will be removed in a future version of pandas. Specify `datetime_is_numeric=True` to silence this warning and adopt the future behavior now.\n",
            "  \"\"\"Entry point for launching an IPython kernel.\n"
          ]
        },
        {
          "output_type": "execute_result",
          "data": {
            "text/plain": [
              "        InvoiceNo StockCode                         Description  \\\n",
              "count    541909.0    541909                              540455   \n",
              "unique    25900.0      4070                                4223   \n",
              "top      573585.0    85123A  WHITE HANGING HEART T-LIGHT HOLDER   \n",
              "freq       1114.0      2313                                2369   \n",
              "first         NaN       NaN                                 NaN   \n",
              "last          NaN       NaN                                 NaN   \n",
              "mean          NaN       NaN                                 NaN   \n",
              "std           NaN       NaN                                 NaN   \n",
              "min           NaN       NaN                                 NaN   \n",
              "25%           NaN       NaN                                 NaN   \n",
              "50%           NaN       NaN                                 NaN   \n",
              "75%           NaN       NaN                                 NaN   \n",
              "max           NaN       NaN                                 NaN   \n",
              "\n",
              "             Quantity          InvoiceDate      UnitPrice     CustomerID  \\\n",
              "count   541909.000000               541909  541909.000000  406829.000000   \n",
              "unique            NaN                23260            NaN            NaN   \n",
              "top               NaN  2011-10-31 14:41:00            NaN            NaN   \n",
              "freq              NaN                 1114            NaN            NaN   \n",
              "first             NaN  2010-12-01 08:26:00            NaN            NaN   \n",
              "last              NaN  2011-12-09 12:50:00            NaN            NaN   \n",
              "mean         9.552250                  NaN       4.611114   15287.690570   \n",
              "std        218.081158                  NaN      96.759853    1713.600303   \n",
              "min     -80995.000000                  NaN  -11062.060000   12346.000000   \n",
              "25%          1.000000                  NaN       1.250000   13953.000000   \n",
              "50%          3.000000                  NaN       2.080000   15152.000000   \n",
              "75%         10.000000                  NaN       4.130000   16791.000000   \n",
              "max      80995.000000                  NaN   38970.000000   18287.000000   \n",
              "\n",
              "               Country  \n",
              "count           541909  \n",
              "unique              38  \n",
              "top     United Kingdom  \n",
              "freq            495478  \n",
              "first              NaN  \n",
              "last               NaN  \n",
              "mean               NaN  \n",
              "std                NaN  \n",
              "min                NaN  \n",
              "25%                NaN  \n",
              "50%                NaN  \n",
              "75%                NaN  \n",
              "max                NaN  "
            ],
            "text/html": [
              "\n",
              "  <div id=\"df-20dc3e89-6364-4c81-8955-2d086befeb50\">\n",
              "    <div class=\"colab-df-container\">\n",
              "      <div>\n",
              "<style scoped>\n",
              "    .dataframe tbody tr th:only-of-type {\n",
              "        vertical-align: middle;\n",
              "    }\n",
              "\n",
              "    .dataframe tbody tr th {\n",
              "        vertical-align: top;\n",
              "    }\n",
              "\n",
              "    .dataframe thead th {\n",
              "        text-align: right;\n",
              "    }\n",
              "</style>\n",
              "<table border=\"1\" class=\"dataframe\">\n",
              "  <thead>\n",
              "    <tr style=\"text-align: right;\">\n",
              "      <th></th>\n",
              "      <th>InvoiceNo</th>\n",
              "      <th>StockCode</th>\n",
              "      <th>Description</th>\n",
              "      <th>Quantity</th>\n",
              "      <th>InvoiceDate</th>\n",
              "      <th>UnitPrice</th>\n",
              "      <th>CustomerID</th>\n",
              "      <th>Country</th>\n",
              "    </tr>\n",
              "  </thead>\n",
              "  <tbody>\n",
              "    <tr>\n",
              "      <th>count</th>\n",
              "      <td>541909.0</td>\n",
              "      <td>541909</td>\n",
              "      <td>540455</td>\n",
              "      <td>541909.000000</td>\n",
              "      <td>541909</td>\n",
              "      <td>541909.000000</td>\n",
              "      <td>406829.000000</td>\n",
              "      <td>541909</td>\n",
              "    </tr>\n",
              "    <tr>\n",
              "      <th>unique</th>\n",
              "      <td>25900.0</td>\n",
              "      <td>4070</td>\n",
              "      <td>4223</td>\n",
              "      <td>NaN</td>\n",
              "      <td>23260</td>\n",
              "      <td>NaN</td>\n",
              "      <td>NaN</td>\n",
              "      <td>38</td>\n",
              "    </tr>\n",
              "    <tr>\n",
              "      <th>top</th>\n",
              "      <td>573585.0</td>\n",
              "      <td>85123A</td>\n",
              "      <td>WHITE HANGING HEART T-LIGHT HOLDER</td>\n",
              "      <td>NaN</td>\n",
              "      <td>2011-10-31 14:41:00</td>\n",
              "      <td>NaN</td>\n",
              "      <td>NaN</td>\n",
              "      <td>United Kingdom</td>\n",
              "    </tr>\n",
              "    <tr>\n",
              "      <th>freq</th>\n",
              "      <td>1114.0</td>\n",
              "      <td>2313</td>\n",
              "      <td>2369</td>\n",
              "      <td>NaN</td>\n",
              "      <td>1114</td>\n",
              "      <td>NaN</td>\n",
              "      <td>NaN</td>\n",
              "      <td>495478</td>\n",
              "    </tr>\n",
              "    <tr>\n",
              "      <th>first</th>\n",
              "      <td>NaN</td>\n",
              "      <td>NaN</td>\n",
              "      <td>NaN</td>\n",
              "      <td>NaN</td>\n",
              "      <td>2010-12-01 08:26:00</td>\n",
              "      <td>NaN</td>\n",
              "      <td>NaN</td>\n",
              "      <td>NaN</td>\n",
              "    </tr>\n",
              "    <tr>\n",
              "      <th>last</th>\n",
              "      <td>NaN</td>\n",
              "      <td>NaN</td>\n",
              "      <td>NaN</td>\n",
              "      <td>NaN</td>\n",
              "      <td>2011-12-09 12:50:00</td>\n",
              "      <td>NaN</td>\n",
              "      <td>NaN</td>\n",
              "      <td>NaN</td>\n",
              "    </tr>\n",
              "    <tr>\n",
              "      <th>mean</th>\n",
              "      <td>NaN</td>\n",
              "      <td>NaN</td>\n",
              "      <td>NaN</td>\n",
              "      <td>9.552250</td>\n",
              "      <td>NaN</td>\n",
              "      <td>4.611114</td>\n",
              "      <td>15287.690570</td>\n",
              "      <td>NaN</td>\n",
              "    </tr>\n",
              "    <tr>\n",
              "      <th>std</th>\n",
              "      <td>NaN</td>\n",
              "      <td>NaN</td>\n",
              "      <td>NaN</td>\n",
              "      <td>218.081158</td>\n",
              "      <td>NaN</td>\n",
              "      <td>96.759853</td>\n",
              "      <td>1713.600303</td>\n",
              "      <td>NaN</td>\n",
              "    </tr>\n",
              "    <tr>\n",
              "      <th>min</th>\n",
              "      <td>NaN</td>\n",
              "      <td>NaN</td>\n",
              "      <td>NaN</td>\n",
              "      <td>-80995.000000</td>\n",
              "      <td>NaN</td>\n",
              "      <td>-11062.060000</td>\n",
              "      <td>12346.000000</td>\n",
              "      <td>NaN</td>\n",
              "    </tr>\n",
              "    <tr>\n",
              "      <th>25%</th>\n",
              "      <td>NaN</td>\n",
              "      <td>NaN</td>\n",
              "      <td>NaN</td>\n",
              "      <td>1.000000</td>\n",
              "      <td>NaN</td>\n",
              "      <td>1.250000</td>\n",
              "      <td>13953.000000</td>\n",
              "      <td>NaN</td>\n",
              "    </tr>\n",
              "    <tr>\n",
              "      <th>50%</th>\n",
              "      <td>NaN</td>\n",
              "      <td>NaN</td>\n",
              "      <td>NaN</td>\n",
              "      <td>3.000000</td>\n",
              "      <td>NaN</td>\n",
              "      <td>2.080000</td>\n",
              "      <td>15152.000000</td>\n",
              "      <td>NaN</td>\n",
              "    </tr>\n",
              "    <tr>\n",
              "      <th>75%</th>\n",
              "      <td>NaN</td>\n",
              "      <td>NaN</td>\n",
              "      <td>NaN</td>\n",
              "      <td>10.000000</td>\n",
              "      <td>NaN</td>\n",
              "      <td>4.130000</td>\n",
              "      <td>16791.000000</td>\n",
              "      <td>NaN</td>\n",
              "    </tr>\n",
              "    <tr>\n",
              "      <th>max</th>\n",
              "      <td>NaN</td>\n",
              "      <td>NaN</td>\n",
              "      <td>NaN</td>\n",
              "      <td>80995.000000</td>\n",
              "      <td>NaN</td>\n",
              "      <td>38970.000000</td>\n",
              "      <td>18287.000000</td>\n",
              "      <td>NaN</td>\n",
              "    </tr>\n",
              "  </tbody>\n",
              "</table>\n",
              "</div>\n",
              "      <button class=\"colab-df-convert\" onclick=\"convertToInteractive('df-20dc3e89-6364-4c81-8955-2d086befeb50')\"\n",
              "              title=\"Convert this dataframe to an interactive table.\"\n",
              "              style=\"display:none;\">\n",
              "        \n",
              "  <svg xmlns=\"http://www.w3.org/2000/svg\" height=\"24px\"viewBox=\"0 0 24 24\"\n",
              "       width=\"24px\">\n",
              "    <path d=\"M0 0h24v24H0V0z\" fill=\"none\"/>\n",
              "    <path d=\"M18.56 5.44l.94 2.06.94-2.06 2.06-.94-2.06-.94-.94-2.06-.94 2.06-2.06.94zm-11 1L8.5 8.5l.94-2.06 2.06-.94-2.06-.94L8.5 2.5l-.94 2.06-2.06.94zm10 10l.94 2.06.94-2.06 2.06-.94-2.06-.94-.94-2.06-.94 2.06-2.06.94z\"/><path d=\"M17.41 7.96l-1.37-1.37c-.4-.4-.92-.59-1.43-.59-.52 0-1.04.2-1.43.59L10.3 9.45l-7.72 7.72c-.78.78-.78 2.05 0 2.83L4 21.41c.39.39.9.59 1.41.59.51 0 1.02-.2 1.41-.59l7.78-7.78 2.81-2.81c.8-.78.8-2.07 0-2.86zM5.41 20L4 18.59l7.72-7.72 1.47 1.35L5.41 20z\"/>\n",
              "  </svg>\n",
              "      </button>\n",
              "      \n",
              "  <style>\n",
              "    .colab-df-container {\n",
              "      display:flex;\n",
              "      flex-wrap:wrap;\n",
              "      gap: 12px;\n",
              "    }\n",
              "\n",
              "    .colab-df-convert {\n",
              "      background-color: #E8F0FE;\n",
              "      border: none;\n",
              "      border-radius: 50%;\n",
              "      cursor: pointer;\n",
              "      display: none;\n",
              "      fill: #1967D2;\n",
              "      height: 32px;\n",
              "      padding: 0 0 0 0;\n",
              "      width: 32px;\n",
              "    }\n",
              "\n",
              "    .colab-df-convert:hover {\n",
              "      background-color: #E2EBFA;\n",
              "      box-shadow: 0px 1px 2px rgba(60, 64, 67, 0.3), 0px 1px 3px 1px rgba(60, 64, 67, 0.15);\n",
              "      fill: #174EA6;\n",
              "    }\n",
              "\n",
              "    [theme=dark] .colab-df-convert {\n",
              "      background-color: #3B4455;\n",
              "      fill: #D2E3FC;\n",
              "    }\n",
              "\n",
              "    [theme=dark] .colab-df-convert:hover {\n",
              "      background-color: #434B5C;\n",
              "      box-shadow: 0px 1px 3px 1px rgba(0, 0, 0, 0.15);\n",
              "      filter: drop-shadow(0px 1px 2px rgba(0, 0, 0, 0.3));\n",
              "      fill: #FFFFFF;\n",
              "    }\n",
              "  </style>\n",
              "\n",
              "      <script>\n",
              "        const buttonEl =\n",
              "          document.querySelector('#df-20dc3e89-6364-4c81-8955-2d086befeb50 button.colab-df-convert');\n",
              "        buttonEl.style.display =\n",
              "          google.colab.kernel.accessAllowed ? 'block' : 'none';\n",
              "\n",
              "        async function convertToInteractive(key) {\n",
              "          const element = document.querySelector('#df-20dc3e89-6364-4c81-8955-2d086befeb50');\n",
              "          const dataTable =\n",
              "            await google.colab.kernel.invokeFunction('convertToInteractive',\n",
              "                                                     [key], {});\n",
              "          if (!dataTable) return;\n",
              "\n",
              "          const docLinkHtml = 'Like what you see? Visit the ' +\n",
              "            '<a target=\"_blank\" href=https://colab.research.google.com/notebooks/data_table.ipynb>data table notebook</a>'\n",
              "            + ' to learn more about interactive tables.';\n",
              "          element.innerHTML = '';\n",
              "          dataTable['output_type'] = 'display_data';\n",
              "          await google.colab.output.renderOutput(dataTable, element);\n",
              "          const docLink = document.createElement('div');\n",
              "          docLink.innerHTML = docLinkHtml;\n",
              "          element.appendChild(docLink);\n",
              "        }\n",
              "      </script>\n",
              "    </div>\n",
              "  </div>\n",
              "  "
            ]
          },
          "metadata": {},
          "execution_count": 14
        }
      ]
    },
    {
      "cell_type": "code",
      "source": [
        "for var in list(df.columns):\n",
        "    print(var, ' contains ', df[var].nunique(), ' values')"
      ],
      "metadata": {
        "colab": {
          "base_uri": "https://localhost:8080/"
        },
        "id": "lMO_5KAMSOEU",
        "outputId": "22d65937-71de-4486-e56b-b93ef181a93a"
      },
      "execution_count": 15,
      "outputs": [
        {
          "output_type": "stream",
          "name": "stdout",
          "text": [
            "InvoiceNo  contains  25900  values\n",
            "StockCode  contains  4070  values\n",
            "Description  contains  4223  values\n",
            "Quantity  contains  722  values\n",
            "InvoiceDate  contains  23260  values\n",
            "UnitPrice  contains  1630  values\n",
            "CustomerID  contains  4372  values\n",
            "Country  contains  38  values\n"
          ]
        }
      ]
    },
    {
      "cell_type": "code",
      "source": [
        "for var in list(df.columns):\n",
        "  print(f'\\n\\nValue count for {var}:\\n {df[var].value_counts()}')"
      ],
      "metadata": {
        "colab": {
          "base_uri": "https://localhost:8080/"
        },
        "id": "mUv3l_Y1SOBE",
        "outputId": "ee25feaa-d07c-40c9-f729-0d6d506d3726"
      },
      "execution_count": 16,
      "outputs": [
        {
          "output_type": "stream",
          "name": "stdout",
          "text": [
            "\n",
            "\n",
            "Value count for InvoiceNo:\n",
            " 573585     1114\n",
            "581219      749\n",
            "581492      731\n",
            "580729      721\n",
            "558475      705\n",
            "           ... \n",
            "554023        1\n",
            "554022        1\n",
            "554021        1\n",
            "554020        1\n",
            "C558901       1\n",
            "Name: InvoiceNo, Length: 25900, dtype: int64\n",
            "\n",
            "\n",
            "Value count for StockCode:\n",
            " 85123A    2313\n",
            "22423     2203\n",
            "85099B    2159\n",
            "47566     1727\n",
            "20725     1639\n",
            "          ... \n",
            "21431        1\n",
            "22275        1\n",
            "17001        1\n",
            "90187A       1\n",
            "72759        1\n",
            "Name: StockCode, Length: 4070, dtype: int64\n",
            "\n",
            "\n",
            "Value count for Description:\n",
            " WHITE HANGING HEART T-LIGHT HOLDER     2369\n",
            "REGENCY CAKESTAND 3 TIER               2200\n",
            "JUMBO BAG RED RETROSPOT                2159\n",
            "PARTY BUNTING                          1727\n",
            "LUNCH BAG RED RETROSPOT                1638\n",
            "                                       ... \n",
            "Missing                                   1\n",
            "historic computer difference?....se       1\n",
            "DUSTY PINK CHRISTMAS TREE 30CM            1\n",
            "WRAP BLUE RUSSIAN FOLKART                 1\n",
            "PINK BERTIE MOBILE PHONE CHARM            1\n",
            "Name: Description, Length: 4223, dtype: int64\n",
            "\n",
            "\n",
            "Value count for Quantity:\n",
            "  1        148227\n",
            " 2         81829\n",
            " 12        61063\n",
            " 6         40868\n",
            " 4         38484\n",
            "           ...  \n",
            "-472           1\n",
            "-161           1\n",
            "-1206          1\n",
            "-272           1\n",
            "-80995         1\n",
            "Name: Quantity, Length: 722, dtype: int64\n",
            "\n",
            "\n",
            "Value count for InvoiceDate:\n",
            " 2011-10-31 14:41:00    1114\n",
            "2011-12-08 09:28:00     749\n",
            "2011-12-09 10:03:00     731\n",
            "2011-12-05 17:24:00     721\n",
            "2011-06-29 15:58:00     705\n",
            "                       ... \n",
            "2011-09-28 09:57:00       1\n",
            "2011-09-28 09:45:00       1\n",
            "2011-03-16 12:13:00       1\n",
            "2011-03-16 12:22:00       1\n",
            "2011-03-16 15:58:00       1\n",
            "Name: InvoiceDate, Length: 23260, dtype: int64\n",
            "\n",
            "\n",
            "Value count for UnitPrice:\n",
            " 1.25      50496\n",
            "1.65      38181\n",
            "0.85      28497\n",
            "2.95      27768\n",
            "0.42      24533\n",
            "          ...  \n",
            "84.21         1\n",
            "46.86         1\n",
            "28.66         1\n",
            "156.45        1\n",
            "224.69        1\n",
            "Name: UnitPrice, Length: 1630, dtype: int64\n",
            "\n",
            "\n",
            "Value count for CustomerID:\n",
            " 17841.0    7983\n",
            "14911.0    5903\n",
            "14096.0    5128\n",
            "12748.0    4642\n",
            "14606.0    2782\n",
            "           ... \n",
            "15070.0       1\n",
            "15753.0       1\n",
            "17065.0       1\n",
            "16881.0       1\n",
            "16995.0       1\n",
            "Name: CustomerID, Length: 4372, dtype: int64\n",
            "\n",
            "\n",
            "Value count for Country:\n",
            " United Kingdom          495478\n",
            "Germany                   9495\n",
            "France                    8557\n",
            "EIRE                      8196\n",
            "Spain                     2533\n",
            "Netherlands               2371\n",
            "Belgium                   2069\n",
            "Switzerland               2002\n",
            "Portugal                  1519\n",
            "Australia                 1259\n",
            "Norway                    1086\n",
            "Italy                      803\n",
            "Channel Islands            758\n",
            "Finland                    695\n",
            "Cyprus                     622\n",
            "Sweden                     462\n",
            "Unspecified                446\n",
            "Austria                    401\n",
            "Denmark                    389\n",
            "Japan                      358\n",
            "Poland                     341\n",
            "Israel                     297\n",
            "USA                        291\n",
            "Hong Kong                  288\n",
            "Singapore                  229\n",
            "Iceland                    182\n",
            "Canada                     151\n",
            "Greece                     146\n",
            "Malta                      127\n",
            "United Arab Emirates        68\n",
            "European Community          61\n",
            "RSA                         58\n",
            "Lebanon                     45\n",
            "Lithuania                   35\n",
            "Brazil                      32\n",
            "Czech Republic              30\n",
            "Bahrain                     19\n",
            "Saudi Arabia                10\n",
            "Name: Country, dtype: int64\n"
          ]
        }
      ]
    },
    {
      "cell_type": "code",
      "source": [
        "df.isna().sum()"
      ],
      "metadata": {
        "colab": {
          "base_uri": "https://localhost:8080/"
        },
        "id": "fph1u3b6SOHc",
        "outputId": "fa39e613-0662-498b-f758-1f448559adf7"
      },
      "execution_count": 17,
      "outputs": [
        {
          "output_type": "execute_result",
          "data": {
            "text/plain": [
              "InvoiceNo           0\n",
              "StockCode           0\n",
              "Description      1454\n",
              "Quantity            0\n",
              "InvoiceDate         0\n",
              "UnitPrice           0\n",
              "CustomerID     135080\n",
              "Country             0\n",
              "dtype: int64"
            ]
          },
          "metadata": {},
          "execution_count": 17
        }
      ]
    },
    {
      "cell_type": "code",
      "source": [
        "df[df.Description.isna()]"
      ],
      "metadata": {
        "colab": {
          "base_uri": "https://localhost:8080/",
          "height": 424
        },
        "id": "ftTnCq1tSN97",
        "outputId": "4315746f-eb80-46f9-9cc9-7666bf50674e"
      },
      "execution_count": 18,
      "outputs": [
        {
          "output_type": "execute_result",
          "data": {
            "text/plain": [
              "       InvoiceNo StockCode Description  Quantity         InvoiceDate  \\\n",
              "622       536414     22139         NaN        56 2010-12-01 11:52:00   \n",
              "1970      536545     21134         NaN         1 2010-12-01 14:32:00   \n",
              "1971      536546     22145         NaN         1 2010-12-01 14:33:00   \n",
              "1972      536547     37509         NaN         1 2010-12-01 14:33:00   \n",
              "1987      536549    85226A         NaN         1 2010-12-01 14:34:00   \n",
              "...          ...       ...         ...       ...                 ...   \n",
              "535322    581199     84581         NaN        -2 2011-12-07 18:26:00   \n",
              "535326    581203     23406         NaN        15 2011-12-07 18:31:00   \n",
              "535332    581209     21620         NaN         6 2011-12-07 18:35:00   \n",
              "536981    581234     72817         NaN        27 2011-12-08 10:33:00   \n",
              "538554    581408     85175         NaN        20 2011-12-08 14:06:00   \n",
              "\n",
              "        UnitPrice  CustomerID         Country  \n",
              "622           0.0         NaN  United Kingdom  \n",
              "1970          0.0         NaN  United Kingdom  \n",
              "1971          0.0         NaN  United Kingdom  \n",
              "1972          0.0         NaN  United Kingdom  \n",
              "1987          0.0         NaN  United Kingdom  \n",
              "...           ...         ...             ...  \n",
              "535322        0.0         NaN  United Kingdom  \n",
              "535326        0.0         NaN  United Kingdom  \n",
              "535332        0.0         NaN  United Kingdom  \n",
              "536981        0.0         NaN  United Kingdom  \n",
              "538554        0.0         NaN  United Kingdom  \n",
              "\n",
              "[1454 rows x 8 columns]"
            ],
            "text/html": [
              "\n",
              "  <div id=\"df-23c157d3-070e-4845-87d5-de8dd95e4da9\">\n",
              "    <div class=\"colab-df-container\">\n",
              "      <div>\n",
              "<style scoped>\n",
              "    .dataframe tbody tr th:only-of-type {\n",
              "        vertical-align: middle;\n",
              "    }\n",
              "\n",
              "    .dataframe tbody tr th {\n",
              "        vertical-align: top;\n",
              "    }\n",
              "\n",
              "    .dataframe thead th {\n",
              "        text-align: right;\n",
              "    }\n",
              "</style>\n",
              "<table border=\"1\" class=\"dataframe\">\n",
              "  <thead>\n",
              "    <tr style=\"text-align: right;\">\n",
              "      <th></th>\n",
              "      <th>InvoiceNo</th>\n",
              "      <th>StockCode</th>\n",
              "      <th>Description</th>\n",
              "      <th>Quantity</th>\n",
              "      <th>InvoiceDate</th>\n",
              "      <th>UnitPrice</th>\n",
              "      <th>CustomerID</th>\n",
              "      <th>Country</th>\n",
              "    </tr>\n",
              "  </thead>\n",
              "  <tbody>\n",
              "    <tr>\n",
              "      <th>622</th>\n",
              "      <td>536414</td>\n",
              "      <td>22139</td>\n",
              "      <td>NaN</td>\n",
              "      <td>56</td>\n",
              "      <td>2010-12-01 11:52:00</td>\n",
              "      <td>0.0</td>\n",
              "      <td>NaN</td>\n",
              "      <td>United Kingdom</td>\n",
              "    </tr>\n",
              "    <tr>\n",
              "      <th>1970</th>\n",
              "      <td>536545</td>\n",
              "      <td>21134</td>\n",
              "      <td>NaN</td>\n",
              "      <td>1</td>\n",
              "      <td>2010-12-01 14:32:00</td>\n",
              "      <td>0.0</td>\n",
              "      <td>NaN</td>\n",
              "      <td>United Kingdom</td>\n",
              "    </tr>\n",
              "    <tr>\n",
              "      <th>1971</th>\n",
              "      <td>536546</td>\n",
              "      <td>22145</td>\n",
              "      <td>NaN</td>\n",
              "      <td>1</td>\n",
              "      <td>2010-12-01 14:33:00</td>\n",
              "      <td>0.0</td>\n",
              "      <td>NaN</td>\n",
              "      <td>United Kingdom</td>\n",
              "    </tr>\n",
              "    <tr>\n",
              "      <th>1972</th>\n",
              "      <td>536547</td>\n",
              "      <td>37509</td>\n",
              "      <td>NaN</td>\n",
              "      <td>1</td>\n",
              "      <td>2010-12-01 14:33:00</td>\n",
              "      <td>0.0</td>\n",
              "      <td>NaN</td>\n",
              "      <td>United Kingdom</td>\n",
              "    </tr>\n",
              "    <tr>\n",
              "      <th>1987</th>\n",
              "      <td>536549</td>\n",
              "      <td>85226A</td>\n",
              "      <td>NaN</td>\n",
              "      <td>1</td>\n",
              "      <td>2010-12-01 14:34:00</td>\n",
              "      <td>0.0</td>\n",
              "      <td>NaN</td>\n",
              "      <td>United Kingdom</td>\n",
              "    </tr>\n",
              "    <tr>\n",
              "      <th>...</th>\n",
              "      <td>...</td>\n",
              "      <td>...</td>\n",
              "      <td>...</td>\n",
              "      <td>...</td>\n",
              "      <td>...</td>\n",
              "      <td>...</td>\n",
              "      <td>...</td>\n",
              "      <td>...</td>\n",
              "    </tr>\n",
              "    <tr>\n",
              "      <th>535322</th>\n",
              "      <td>581199</td>\n",
              "      <td>84581</td>\n",
              "      <td>NaN</td>\n",
              "      <td>-2</td>\n",
              "      <td>2011-12-07 18:26:00</td>\n",
              "      <td>0.0</td>\n",
              "      <td>NaN</td>\n",
              "      <td>United Kingdom</td>\n",
              "    </tr>\n",
              "    <tr>\n",
              "      <th>535326</th>\n",
              "      <td>581203</td>\n",
              "      <td>23406</td>\n",
              "      <td>NaN</td>\n",
              "      <td>15</td>\n",
              "      <td>2011-12-07 18:31:00</td>\n",
              "      <td>0.0</td>\n",
              "      <td>NaN</td>\n",
              "      <td>United Kingdom</td>\n",
              "    </tr>\n",
              "    <tr>\n",
              "      <th>535332</th>\n",
              "      <td>581209</td>\n",
              "      <td>21620</td>\n",
              "      <td>NaN</td>\n",
              "      <td>6</td>\n",
              "      <td>2011-12-07 18:35:00</td>\n",
              "      <td>0.0</td>\n",
              "      <td>NaN</td>\n",
              "      <td>United Kingdom</td>\n",
              "    </tr>\n",
              "    <tr>\n",
              "      <th>536981</th>\n",
              "      <td>581234</td>\n",
              "      <td>72817</td>\n",
              "      <td>NaN</td>\n",
              "      <td>27</td>\n",
              "      <td>2011-12-08 10:33:00</td>\n",
              "      <td>0.0</td>\n",
              "      <td>NaN</td>\n",
              "      <td>United Kingdom</td>\n",
              "    </tr>\n",
              "    <tr>\n",
              "      <th>538554</th>\n",
              "      <td>581408</td>\n",
              "      <td>85175</td>\n",
              "      <td>NaN</td>\n",
              "      <td>20</td>\n",
              "      <td>2011-12-08 14:06:00</td>\n",
              "      <td>0.0</td>\n",
              "      <td>NaN</td>\n",
              "      <td>United Kingdom</td>\n",
              "    </tr>\n",
              "  </tbody>\n",
              "</table>\n",
              "<p>1454 rows × 8 columns</p>\n",
              "</div>\n",
              "      <button class=\"colab-df-convert\" onclick=\"convertToInteractive('df-23c157d3-070e-4845-87d5-de8dd95e4da9')\"\n",
              "              title=\"Convert this dataframe to an interactive table.\"\n",
              "              style=\"display:none;\">\n",
              "        \n",
              "  <svg xmlns=\"http://www.w3.org/2000/svg\" height=\"24px\"viewBox=\"0 0 24 24\"\n",
              "       width=\"24px\">\n",
              "    <path d=\"M0 0h24v24H0V0z\" fill=\"none\"/>\n",
              "    <path d=\"M18.56 5.44l.94 2.06.94-2.06 2.06-.94-2.06-.94-.94-2.06-.94 2.06-2.06.94zm-11 1L8.5 8.5l.94-2.06 2.06-.94-2.06-.94L8.5 2.5l-.94 2.06-2.06.94zm10 10l.94 2.06.94-2.06 2.06-.94-2.06-.94-.94-2.06-.94 2.06-2.06.94z\"/><path d=\"M17.41 7.96l-1.37-1.37c-.4-.4-.92-.59-1.43-.59-.52 0-1.04.2-1.43.59L10.3 9.45l-7.72 7.72c-.78.78-.78 2.05 0 2.83L4 21.41c.39.39.9.59 1.41.59.51 0 1.02-.2 1.41-.59l7.78-7.78 2.81-2.81c.8-.78.8-2.07 0-2.86zM5.41 20L4 18.59l7.72-7.72 1.47 1.35L5.41 20z\"/>\n",
              "  </svg>\n",
              "      </button>\n",
              "      \n",
              "  <style>\n",
              "    .colab-df-container {\n",
              "      display:flex;\n",
              "      flex-wrap:wrap;\n",
              "      gap: 12px;\n",
              "    }\n",
              "\n",
              "    .colab-df-convert {\n",
              "      background-color: #E8F0FE;\n",
              "      border: none;\n",
              "      border-radius: 50%;\n",
              "      cursor: pointer;\n",
              "      display: none;\n",
              "      fill: #1967D2;\n",
              "      height: 32px;\n",
              "      padding: 0 0 0 0;\n",
              "      width: 32px;\n",
              "    }\n",
              "\n",
              "    .colab-df-convert:hover {\n",
              "      background-color: #E2EBFA;\n",
              "      box-shadow: 0px 1px 2px rgba(60, 64, 67, 0.3), 0px 1px 3px 1px rgba(60, 64, 67, 0.15);\n",
              "      fill: #174EA6;\n",
              "    }\n",
              "\n",
              "    [theme=dark] .colab-df-convert {\n",
              "      background-color: #3B4455;\n",
              "      fill: #D2E3FC;\n",
              "    }\n",
              "\n",
              "    [theme=dark] .colab-df-convert:hover {\n",
              "      background-color: #434B5C;\n",
              "      box-shadow: 0px 1px 3px 1px rgba(0, 0, 0, 0.15);\n",
              "      filter: drop-shadow(0px 1px 2px rgba(0, 0, 0, 0.3));\n",
              "      fill: #FFFFFF;\n",
              "    }\n",
              "  </style>\n",
              "\n",
              "      <script>\n",
              "        const buttonEl =\n",
              "          document.querySelector('#df-23c157d3-070e-4845-87d5-de8dd95e4da9 button.colab-df-convert');\n",
              "        buttonEl.style.display =\n",
              "          google.colab.kernel.accessAllowed ? 'block' : 'none';\n",
              "\n",
              "        async function convertToInteractive(key) {\n",
              "          const element = document.querySelector('#df-23c157d3-070e-4845-87d5-de8dd95e4da9');\n",
              "          const dataTable =\n",
              "            await google.colab.kernel.invokeFunction('convertToInteractive',\n",
              "                                                     [key], {});\n",
              "          if (!dataTable) return;\n",
              "\n",
              "          const docLinkHtml = 'Like what you see? Visit the ' +\n",
              "            '<a target=\"_blank\" href=https://colab.research.google.com/notebooks/data_table.ipynb>data table notebook</a>'\n",
              "            + ' to learn more about interactive tables.';\n",
              "          element.innerHTML = '';\n",
              "          dataTable['output_type'] = 'display_data';\n",
              "          await google.colab.output.renderOutput(dataTable, element);\n",
              "          const docLink = document.createElement('div');\n",
              "          docLink.innerHTML = docLinkHtml;\n",
              "          element.appendChild(docLink);\n",
              "        }\n",
              "      </script>\n",
              "    </div>\n",
              "  </div>\n",
              "  "
            ]
          },
          "metadata": {},
          "execution_count": 18
        }
      ]
    },
    {
      "cell_type": "code",
      "source": [
        "df[df.CustomerID.isna()]"
      ],
      "metadata": {
        "colab": {
          "base_uri": "https://localhost:8080/",
          "height": 424
        },
        "id": "sAf2Bx3QSN6j",
        "outputId": "6a0cc5b0-bf5c-4583-a6a3-81a216d66304"
      },
      "execution_count": 19,
      "outputs": [
        {
          "output_type": "execute_result",
          "data": {
            "text/plain": [
              "       InvoiceNo StockCode                      Description  Quantity  \\\n",
              "622       536414     22139                              NaN        56   \n",
              "1443      536544     21773  DECORATIVE ROSE BATHROOM BOTTLE         1   \n",
              "1444      536544     21774  DECORATIVE CATS BATHROOM BOTTLE         2   \n",
              "1445      536544     21786               POLKADOT RAIN HAT          4   \n",
              "1446      536544     21787            RAIN PONCHO RETROSPOT         2   \n",
              "...          ...       ...                              ...       ...   \n",
              "541536    581498    85099B          JUMBO BAG RED RETROSPOT         5   \n",
              "541537    581498    85099C   JUMBO  BAG BAROQUE BLACK WHITE         4   \n",
              "541538    581498     85150    LADIES & GENTLEMEN METAL SIGN         1   \n",
              "541539    581498     85174                S/4 CACTI CANDLES         1   \n",
              "541540    581498       DOT                   DOTCOM POSTAGE         1   \n",
              "\n",
              "               InvoiceDate  UnitPrice  CustomerID         Country  \n",
              "622    2010-12-01 11:52:00       0.00         NaN  United Kingdom  \n",
              "1443   2010-12-01 14:32:00       2.51         NaN  United Kingdom  \n",
              "1444   2010-12-01 14:32:00       2.51         NaN  United Kingdom  \n",
              "1445   2010-12-01 14:32:00       0.85         NaN  United Kingdom  \n",
              "1446   2010-12-01 14:32:00       1.66         NaN  United Kingdom  \n",
              "...                    ...        ...         ...             ...  \n",
              "541536 2011-12-09 10:26:00       4.13         NaN  United Kingdom  \n",
              "541537 2011-12-09 10:26:00       4.13         NaN  United Kingdom  \n",
              "541538 2011-12-09 10:26:00       4.96         NaN  United Kingdom  \n",
              "541539 2011-12-09 10:26:00      10.79         NaN  United Kingdom  \n",
              "541540 2011-12-09 10:26:00    1714.17         NaN  United Kingdom  \n",
              "\n",
              "[135080 rows x 8 columns]"
            ],
            "text/html": [
              "\n",
              "  <div id=\"df-6623fe78-6219-43ec-9b51-0ea0641f04bb\">\n",
              "    <div class=\"colab-df-container\">\n",
              "      <div>\n",
              "<style scoped>\n",
              "    .dataframe tbody tr th:only-of-type {\n",
              "        vertical-align: middle;\n",
              "    }\n",
              "\n",
              "    .dataframe tbody tr th {\n",
              "        vertical-align: top;\n",
              "    }\n",
              "\n",
              "    .dataframe thead th {\n",
              "        text-align: right;\n",
              "    }\n",
              "</style>\n",
              "<table border=\"1\" class=\"dataframe\">\n",
              "  <thead>\n",
              "    <tr style=\"text-align: right;\">\n",
              "      <th></th>\n",
              "      <th>InvoiceNo</th>\n",
              "      <th>StockCode</th>\n",
              "      <th>Description</th>\n",
              "      <th>Quantity</th>\n",
              "      <th>InvoiceDate</th>\n",
              "      <th>UnitPrice</th>\n",
              "      <th>CustomerID</th>\n",
              "      <th>Country</th>\n",
              "    </tr>\n",
              "  </thead>\n",
              "  <tbody>\n",
              "    <tr>\n",
              "      <th>622</th>\n",
              "      <td>536414</td>\n",
              "      <td>22139</td>\n",
              "      <td>NaN</td>\n",
              "      <td>56</td>\n",
              "      <td>2010-12-01 11:52:00</td>\n",
              "      <td>0.00</td>\n",
              "      <td>NaN</td>\n",
              "      <td>United Kingdom</td>\n",
              "    </tr>\n",
              "    <tr>\n",
              "      <th>1443</th>\n",
              "      <td>536544</td>\n",
              "      <td>21773</td>\n",
              "      <td>DECORATIVE ROSE BATHROOM BOTTLE</td>\n",
              "      <td>1</td>\n",
              "      <td>2010-12-01 14:32:00</td>\n",
              "      <td>2.51</td>\n",
              "      <td>NaN</td>\n",
              "      <td>United Kingdom</td>\n",
              "    </tr>\n",
              "    <tr>\n",
              "      <th>1444</th>\n",
              "      <td>536544</td>\n",
              "      <td>21774</td>\n",
              "      <td>DECORATIVE CATS BATHROOM BOTTLE</td>\n",
              "      <td>2</td>\n",
              "      <td>2010-12-01 14:32:00</td>\n",
              "      <td>2.51</td>\n",
              "      <td>NaN</td>\n",
              "      <td>United Kingdom</td>\n",
              "    </tr>\n",
              "    <tr>\n",
              "      <th>1445</th>\n",
              "      <td>536544</td>\n",
              "      <td>21786</td>\n",
              "      <td>POLKADOT RAIN HAT</td>\n",
              "      <td>4</td>\n",
              "      <td>2010-12-01 14:32:00</td>\n",
              "      <td>0.85</td>\n",
              "      <td>NaN</td>\n",
              "      <td>United Kingdom</td>\n",
              "    </tr>\n",
              "    <tr>\n",
              "      <th>1446</th>\n",
              "      <td>536544</td>\n",
              "      <td>21787</td>\n",
              "      <td>RAIN PONCHO RETROSPOT</td>\n",
              "      <td>2</td>\n",
              "      <td>2010-12-01 14:32:00</td>\n",
              "      <td>1.66</td>\n",
              "      <td>NaN</td>\n",
              "      <td>United Kingdom</td>\n",
              "    </tr>\n",
              "    <tr>\n",
              "      <th>...</th>\n",
              "      <td>...</td>\n",
              "      <td>...</td>\n",
              "      <td>...</td>\n",
              "      <td>...</td>\n",
              "      <td>...</td>\n",
              "      <td>...</td>\n",
              "      <td>...</td>\n",
              "      <td>...</td>\n",
              "    </tr>\n",
              "    <tr>\n",
              "      <th>541536</th>\n",
              "      <td>581498</td>\n",
              "      <td>85099B</td>\n",
              "      <td>JUMBO BAG RED RETROSPOT</td>\n",
              "      <td>5</td>\n",
              "      <td>2011-12-09 10:26:00</td>\n",
              "      <td>4.13</td>\n",
              "      <td>NaN</td>\n",
              "      <td>United Kingdom</td>\n",
              "    </tr>\n",
              "    <tr>\n",
              "      <th>541537</th>\n",
              "      <td>581498</td>\n",
              "      <td>85099C</td>\n",
              "      <td>JUMBO  BAG BAROQUE BLACK WHITE</td>\n",
              "      <td>4</td>\n",
              "      <td>2011-12-09 10:26:00</td>\n",
              "      <td>4.13</td>\n",
              "      <td>NaN</td>\n",
              "      <td>United Kingdom</td>\n",
              "    </tr>\n",
              "    <tr>\n",
              "      <th>541538</th>\n",
              "      <td>581498</td>\n",
              "      <td>85150</td>\n",
              "      <td>LADIES &amp; GENTLEMEN METAL SIGN</td>\n",
              "      <td>1</td>\n",
              "      <td>2011-12-09 10:26:00</td>\n",
              "      <td>4.96</td>\n",
              "      <td>NaN</td>\n",
              "      <td>United Kingdom</td>\n",
              "    </tr>\n",
              "    <tr>\n",
              "      <th>541539</th>\n",
              "      <td>581498</td>\n",
              "      <td>85174</td>\n",
              "      <td>S/4 CACTI CANDLES</td>\n",
              "      <td>1</td>\n",
              "      <td>2011-12-09 10:26:00</td>\n",
              "      <td>10.79</td>\n",
              "      <td>NaN</td>\n",
              "      <td>United Kingdom</td>\n",
              "    </tr>\n",
              "    <tr>\n",
              "      <th>541540</th>\n",
              "      <td>581498</td>\n",
              "      <td>DOT</td>\n",
              "      <td>DOTCOM POSTAGE</td>\n",
              "      <td>1</td>\n",
              "      <td>2011-12-09 10:26:00</td>\n",
              "      <td>1714.17</td>\n",
              "      <td>NaN</td>\n",
              "      <td>United Kingdom</td>\n",
              "    </tr>\n",
              "  </tbody>\n",
              "</table>\n",
              "<p>135080 rows × 8 columns</p>\n",
              "</div>\n",
              "      <button class=\"colab-df-convert\" onclick=\"convertToInteractive('df-6623fe78-6219-43ec-9b51-0ea0641f04bb')\"\n",
              "              title=\"Convert this dataframe to an interactive table.\"\n",
              "              style=\"display:none;\">\n",
              "        \n",
              "  <svg xmlns=\"http://www.w3.org/2000/svg\" height=\"24px\"viewBox=\"0 0 24 24\"\n",
              "       width=\"24px\">\n",
              "    <path d=\"M0 0h24v24H0V0z\" fill=\"none\"/>\n",
              "    <path d=\"M18.56 5.44l.94 2.06.94-2.06 2.06-.94-2.06-.94-.94-2.06-.94 2.06-2.06.94zm-11 1L8.5 8.5l.94-2.06 2.06-.94-2.06-.94L8.5 2.5l-.94 2.06-2.06.94zm10 10l.94 2.06.94-2.06 2.06-.94-2.06-.94-.94-2.06-.94 2.06-2.06.94z\"/><path d=\"M17.41 7.96l-1.37-1.37c-.4-.4-.92-.59-1.43-.59-.52 0-1.04.2-1.43.59L10.3 9.45l-7.72 7.72c-.78.78-.78 2.05 0 2.83L4 21.41c.39.39.9.59 1.41.59.51 0 1.02-.2 1.41-.59l7.78-7.78 2.81-2.81c.8-.78.8-2.07 0-2.86zM5.41 20L4 18.59l7.72-7.72 1.47 1.35L5.41 20z\"/>\n",
              "  </svg>\n",
              "      </button>\n",
              "      \n",
              "  <style>\n",
              "    .colab-df-container {\n",
              "      display:flex;\n",
              "      flex-wrap:wrap;\n",
              "      gap: 12px;\n",
              "    }\n",
              "\n",
              "    .colab-df-convert {\n",
              "      background-color: #E8F0FE;\n",
              "      border: none;\n",
              "      border-radius: 50%;\n",
              "      cursor: pointer;\n",
              "      display: none;\n",
              "      fill: #1967D2;\n",
              "      height: 32px;\n",
              "      padding: 0 0 0 0;\n",
              "      width: 32px;\n",
              "    }\n",
              "\n",
              "    .colab-df-convert:hover {\n",
              "      background-color: #E2EBFA;\n",
              "      box-shadow: 0px 1px 2px rgba(60, 64, 67, 0.3), 0px 1px 3px 1px rgba(60, 64, 67, 0.15);\n",
              "      fill: #174EA6;\n",
              "    }\n",
              "\n",
              "    [theme=dark] .colab-df-convert {\n",
              "      background-color: #3B4455;\n",
              "      fill: #D2E3FC;\n",
              "    }\n",
              "\n",
              "    [theme=dark] .colab-df-convert:hover {\n",
              "      background-color: #434B5C;\n",
              "      box-shadow: 0px 1px 3px 1px rgba(0, 0, 0, 0.15);\n",
              "      filter: drop-shadow(0px 1px 2px rgba(0, 0, 0, 0.3));\n",
              "      fill: #FFFFFF;\n",
              "    }\n",
              "  </style>\n",
              "\n",
              "      <script>\n",
              "        const buttonEl =\n",
              "          document.querySelector('#df-6623fe78-6219-43ec-9b51-0ea0641f04bb button.colab-df-convert');\n",
              "        buttonEl.style.display =\n",
              "          google.colab.kernel.accessAllowed ? 'block' : 'none';\n",
              "\n",
              "        async function convertToInteractive(key) {\n",
              "          const element = document.querySelector('#df-6623fe78-6219-43ec-9b51-0ea0641f04bb');\n",
              "          const dataTable =\n",
              "            await google.colab.kernel.invokeFunction('convertToInteractive',\n",
              "                                                     [key], {});\n",
              "          if (!dataTable) return;\n",
              "\n",
              "          const docLinkHtml = 'Like what you see? Visit the ' +\n",
              "            '<a target=\"_blank\" href=https://colab.research.google.com/notebooks/data_table.ipynb>data table notebook</a>'\n",
              "            + ' to learn more about interactive tables.';\n",
              "          element.innerHTML = '';\n",
              "          dataTable['output_type'] = 'display_data';\n",
              "          await google.colab.output.renderOutput(dataTable, element);\n",
              "          const docLink = document.createElement('div');\n",
              "          docLink.innerHTML = docLinkHtml;\n",
              "          element.appendChild(docLink);\n",
              "        }\n",
              "      </script>\n",
              "    </div>\n",
              "  </div>\n",
              "  "
            ]
          },
          "metadata": {},
          "execution_count": 19
        }
      ]
    },
    {
      "cell_type": "code",
      "source": [
        "df[(df.UnitPrice <= 0)]"
      ],
      "metadata": {
        "colab": {
          "base_uri": "https://localhost:8080/",
          "height": 424
        },
        "id": "rlXpfELkSN4I",
        "outputId": "1c3b437d-82af-4ba3-9459-bd30c383596e"
      },
      "execution_count": 20,
      "outputs": [
        {
          "output_type": "execute_result",
          "data": {
            "text/plain": [
              "       InvoiceNo StockCode                   Description  Quantity  \\\n",
              "622       536414     22139                           NaN        56   \n",
              "1970      536545     21134                           NaN         1   \n",
              "1971      536546     22145                           NaN         1   \n",
              "1972      536547     37509                           NaN         1   \n",
              "1987      536549    85226A                           NaN         1   \n",
              "...          ...       ...                           ...       ...   \n",
              "536981    581234     72817                           NaN        27   \n",
              "538504    581406    46000M  POLYESTER FILLER PAD 45x45cm       240   \n",
              "538505    581406    46000S  POLYESTER FILLER PAD 40x40cm       300   \n",
              "538554    581408     85175                           NaN        20   \n",
              "538919    581422     23169                       smashed      -235   \n",
              "\n",
              "               InvoiceDate  UnitPrice  CustomerID         Country  \n",
              "622    2010-12-01 11:52:00        0.0         NaN  United Kingdom  \n",
              "1970   2010-12-01 14:32:00        0.0         NaN  United Kingdom  \n",
              "1971   2010-12-01 14:33:00        0.0         NaN  United Kingdom  \n",
              "1972   2010-12-01 14:33:00        0.0         NaN  United Kingdom  \n",
              "1987   2010-12-01 14:34:00        0.0         NaN  United Kingdom  \n",
              "...                    ...        ...         ...             ...  \n",
              "536981 2011-12-08 10:33:00        0.0         NaN  United Kingdom  \n",
              "538504 2011-12-08 13:58:00        0.0         NaN  United Kingdom  \n",
              "538505 2011-12-08 13:58:00        0.0         NaN  United Kingdom  \n",
              "538554 2011-12-08 14:06:00        0.0         NaN  United Kingdom  \n",
              "538919 2011-12-08 15:24:00        0.0         NaN  United Kingdom  \n",
              "\n",
              "[2517 rows x 8 columns]"
            ],
            "text/html": [
              "\n",
              "  <div id=\"df-715f2f34-db24-4b8c-b118-bdeb4285ed6f\">\n",
              "    <div class=\"colab-df-container\">\n",
              "      <div>\n",
              "<style scoped>\n",
              "    .dataframe tbody tr th:only-of-type {\n",
              "        vertical-align: middle;\n",
              "    }\n",
              "\n",
              "    .dataframe tbody tr th {\n",
              "        vertical-align: top;\n",
              "    }\n",
              "\n",
              "    .dataframe thead th {\n",
              "        text-align: right;\n",
              "    }\n",
              "</style>\n",
              "<table border=\"1\" class=\"dataframe\">\n",
              "  <thead>\n",
              "    <tr style=\"text-align: right;\">\n",
              "      <th></th>\n",
              "      <th>InvoiceNo</th>\n",
              "      <th>StockCode</th>\n",
              "      <th>Description</th>\n",
              "      <th>Quantity</th>\n",
              "      <th>InvoiceDate</th>\n",
              "      <th>UnitPrice</th>\n",
              "      <th>CustomerID</th>\n",
              "      <th>Country</th>\n",
              "    </tr>\n",
              "  </thead>\n",
              "  <tbody>\n",
              "    <tr>\n",
              "      <th>622</th>\n",
              "      <td>536414</td>\n",
              "      <td>22139</td>\n",
              "      <td>NaN</td>\n",
              "      <td>56</td>\n",
              "      <td>2010-12-01 11:52:00</td>\n",
              "      <td>0.0</td>\n",
              "      <td>NaN</td>\n",
              "      <td>United Kingdom</td>\n",
              "    </tr>\n",
              "    <tr>\n",
              "      <th>1970</th>\n",
              "      <td>536545</td>\n",
              "      <td>21134</td>\n",
              "      <td>NaN</td>\n",
              "      <td>1</td>\n",
              "      <td>2010-12-01 14:32:00</td>\n",
              "      <td>0.0</td>\n",
              "      <td>NaN</td>\n",
              "      <td>United Kingdom</td>\n",
              "    </tr>\n",
              "    <tr>\n",
              "      <th>1971</th>\n",
              "      <td>536546</td>\n",
              "      <td>22145</td>\n",
              "      <td>NaN</td>\n",
              "      <td>1</td>\n",
              "      <td>2010-12-01 14:33:00</td>\n",
              "      <td>0.0</td>\n",
              "      <td>NaN</td>\n",
              "      <td>United Kingdom</td>\n",
              "    </tr>\n",
              "    <tr>\n",
              "      <th>1972</th>\n",
              "      <td>536547</td>\n",
              "      <td>37509</td>\n",
              "      <td>NaN</td>\n",
              "      <td>1</td>\n",
              "      <td>2010-12-01 14:33:00</td>\n",
              "      <td>0.0</td>\n",
              "      <td>NaN</td>\n",
              "      <td>United Kingdom</td>\n",
              "    </tr>\n",
              "    <tr>\n",
              "      <th>1987</th>\n",
              "      <td>536549</td>\n",
              "      <td>85226A</td>\n",
              "      <td>NaN</td>\n",
              "      <td>1</td>\n",
              "      <td>2010-12-01 14:34:00</td>\n",
              "      <td>0.0</td>\n",
              "      <td>NaN</td>\n",
              "      <td>United Kingdom</td>\n",
              "    </tr>\n",
              "    <tr>\n",
              "      <th>...</th>\n",
              "      <td>...</td>\n",
              "      <td>...</td>\n",
              "      <td>...</td>\n",
              "      <td>...</td>\n",
              "      <td>...</td>\n",
              "      <td>...</td>\n",
              "      <td>...</td>\n",
              "      <td>...</td>\n",
              "    </tr>\n",
              "    <tr>\n",
              "      <th>536981</th>\n",
              "      <td>581234</td>\n",
              "      <td>72817</td>\n",
              "      <td>NaN</td>\n",
              "      <td>27</td>\n",
              "      <td>2011-12-08 10:33:00</td>\n",
              "      <td>0.0</td>\n",
              "      <td>NaN</td>\n",
              "      <td>United Kingdom</td>\n",
              "    </tr>\n",
              "    <tr>\n",
              "      <th>538504</th>\n",
              "      <td>581406</td>\n",
              "      <td>46000M</td>\n",
              "      <td>POLYESTER FILLER PAD 45x45cm</td>\n",
              "      <td>240</td>\n",
              "      <td>2011-12-08 13:58:00</td>\n",
              "      <td>0.0</td>\n",
              "      <td>NaN</td>\n",
              "      <td>United Kingdom</td>\n",
              "    </tr>\n",
              "    <tr>\n",
              "      <th>538505</th>\n",
              "      <td>581406</td>\n",
              "      <td>46000S</td>\n",
              "      <td>POLYESTER FILLER PAD 40x40cm</td>\n",
              "      <td>300</td>\n",
              "      <td>2011-12-08 13:58:00</td>\n",
              "      <td>0.0</td>\n",
              "      <td>NaN</td>\n",
              "      <td>United Kingdom</td>\n",
              "    </tr>\n",
              "    <tr>\n",
              "      <th>538554</th>\n",
              "      <td>581408</td>\n",
              "      <td>85175</td>\n",
              "      <td>NaN</td>\n",
              "      <td>20</td>\n",
              "      <td>2011-12-08 14:06:00</td>\n",
              "      <td>0.0</td>\n",
              "      <td>NaN</td>\n",
              "      <td>United Kingdom</td>\n",
              "    </tr>\n",
              "    <tr>\n",
              "      <th>538919</th>\n",
              "      <td>581422</td>\n",
              "      <td>23169</td>\n",
              "      <td>smashed</td>\n",
              "      <td>-235</td>\n",
              "      <td>2011-12-08 15:24:00</td>\n",
              "      <td>0.0</td>\n",
              "      <td>NaN</td>\n",
              "      <td>United Kingdom</td>\n",
              "    </tr>\n",
              "  </tbody>\n",
              "</table>\n",
              "<p>2517 rows × 8 columns</p>\n",
              "</div>\n",
              "      <button class=\"colab-df-convert\" onclick=\"convertToInteractive('df-715f2f34-db24-4b8c-b118-bdeb4285ed6f')\"\n",
              "              title=\"Convert this dataframe to an interactive table.\"\n",
              "              style=\"display:none;\">\n",
              "        \n",
              "  <svg xmlns=\"http://www.w3.org/2000/svg\" height=\"24px\"viewBox=\"0 0 24 24\"\n",
              "       width=\"24px\">\n",
              "    <path d=\"M0 0h24v24H0V0z\" fill=\"none\"/>\n",
              "    <path d=\"M18.56 5.44l.94 2.06.94-2.06 2.06-.94-2.06-.94-.94-2.06-.94 2.06-2.06.94zm-11 1L8.5 8.5l.94-2.06 2.06-.94-2.06-.94L8.5 2.5l-.94 2.06-2.06.94zm10 10l.94 2.06.94-2.06 2.06-.94-2.06-.94-.94-2.06-.94 2.06-2.06.94z\"/><path d=\"M17.41 7.96l-1.37-1.37c-.4-.4-.92-.59-1.43-.59-.52 0-1.04.2-1.43.59L10.3 9.45l-7.72 7.72c-.78.78-.78 2.05 0 2.83L4 21.41c.39.39.9.59 1.41.59.51 0 1.02-.2 1.41-.59l7.78-7.78 2.81-2.81c.8-.78.8-2.07 0-2.86zM5.41 20L4 18.59l7.72-7.72 1.47 1.35L5.41 20z\"/>\n",
              "  </svg>\n",
              "      </button>\n",
              "      \n",
              "  <style>\n",
              "    .colab-df-container {\n",
              "      display:flex;\n",
              "      flex-wrap:wrap;\n",
              "      gap: 12px;\n",
              "    }\n",
              "\n",
              "    .colab-df-convert {\n",
              "      background-color: #E8F0FE;\n",
              "      border: none;\n",
              "      border-radius: 50%;\n",
              "      cursor: pointer;\n",
              "      display: none;\n",
              "      fill: #1967D2;\n",
              "      height: 32px;\n",
              "      padding: 0 0 0 0;\n",
              "      width: 32px;\n",
              "    }\n",
              "\n",
              "    .colab-df-convert:hover {\n",
              "      background-color: #E2EBFA;\n",
              "      box-shadow: 0px 1px 2px rgba(60, 64, 67, 0.3), 0px 1px 3px 1px rgba(60, 64, 67, 0.15);\n",
              "      fill: #174EA6;\n",
              "    }\n",
              "\n",
              "    [theme=dark] .colab-df-convert {\n",
              "      background-color: #3B4455;\n",
              "      fill: #D2E3FC;\n",
              "    }\n",
              "\n",
              "    [theme=dark] .colab-df-convert:hover {\n",
              "      background-color: #434B5C;\n",
              "      box-shadow: 0px 1px 3px 1px rgba(0, 0, 0, 0.15);\n",
              "      filter: drop-shadow(0px 1px 2px rgba(0, 0, 0, 0.3));\n",
              "      fill: #FFFFFF;\n",
              "    }\n",
              "  </style>\n",
              "\n",
              "      <script>\n",
              "        const buttonEl =\n",
              "          document.querySelector('#df-715f2f34-db24-4b8c-b118-bdeb4285ed6f button.colab-df-convert');\n",
              "        buttonEl.style.display =\n",
              "          google.colab.kernel.accessAllowed ? 'block' : 'none';\n",
              "\n",
              "        async function convertToInteractive(key) {\n",
              "          const element = document.querySelector('#df-715f2f34-db24-4b8c-b118-bdeb4285ed6f');\n",
              "          const dataTable =\n",
              "            await google.colab.kernel.invokeFunction('convertToInteractive',\n",
              "                                                     [key], {});\n",
              "          if (!dataTable) return;\n",
              "\n",
              "          const docLinkHtml = 'Like what you see? Visit the ' +\n",
              "            '<a target=\"_blank\" href=https://colab.research.google.com/notebooks/data_table.ipynb>data table notebook</a>'\n",
              "            + ' to learn more about interactive tables.';\n",
              "          element.innerHTML = '';\n",
              "          dataTable['output_type'] = 'display_data';\n",
              "          await google.colab.output.renderOutput(dataTable, element);\n",
              "          const docLink = document.createElement('div');\n",
              "          docLink.innerHTML = docLinkHtml;\n",
              "          element.appendChild(docLink);\n",
              "        }\n",
              "      </script>\n",
              "    </div>\n",
              "  </div>\n",
              "  "
            ]
          },
          "metadata": {},
          "execution_count": 20
        }
      ]
    },
    {
      "cell_type": "code",
      "source": [
        "df[(df.UnitPrice <= 0) & (df.CustomerID.notna())].shape"
      ],
      "metadata": {
        "colab": {
          "base_uri": "https://localhost:8080/"
        },
        "id": "z9n8oWdlgiK0",
        "outputId": "2eeb571c-23ac-4fbb-fd06-f66d25dea6fc"
      },
      "execution_count": 21,
      "outputs": [
        {
          "output_type": "execute_result",
          "data": {
            "text/plain": [
              "(40, 8)"
            ]
          },
          "metadata": {},
          "execution_count": 21
        }
      ]
    },
    {
      "cell_type": "code",
      "source": [
        "df[(df.Quantity < 0)]"
      ],
      "metadata": {
        "colab": {
          "base_uri": "https://localhost:8080/",
          "height": 424
        },
        "id": "8LzFagyErUsm",
        "outputId": "ce76f572-681d-435c-f7e2-3e228e52dbe7"
      },
      "execution_count": 22,
      "outputs": [
        {
          "output_type": "execute_result",
          "data": {
            "text/plain": [
              "       InvoiceNo StockCode                       Description  Quantity  \\\n",
              "141      C536379         D                          Discount        -1   \n",
              "154      C536383    35004C   SET OF 3 COLOURED  FLYING DUCKS        -1   \n",
              "235      C536391     22556    PLASTERS IN TIN CIRCUS PARADE        -12   \n",
              "236      C536391     21984  PACK OF 12 PINK PAISLEY TISSUES        -24   \n",
              "237      C536391     21983  PACK OF 12 BLUE PAISLEY TISSUES        -24   \n",
              "...          ...       ...                               ...       ...   \n",
              "540449   C581490     23144   ZINC T-LIGHT HOLDER STARS SMALL       -11   \n",
              "541541   C581499         M                            Manual        -1   \n",
              "541715   C581568     21258        VICTORIAN SEWING BOX LARGE        -5   \n",
              "541716   C581569     84978  HANGING HEART JAR T-LIGHT HOLDER        -1   \n",
              "541717   C581569     20979     36 PENCILS TUBE RED RETROSPOT        -5   \n",
              "\n",
              "               InvoiceDate  UnitPrice  CustomerID         Country  \n",
              "141    2010-12-01 09:41:00      27.50     14527.0  United Kingdom  \n",
              "154    2010-12-01 09:49:00       4.65     15311.0  United Kingdom  \n",
              "235    2010-12-01 10:24:00       1.65     17548.0  United Kingdom  \n",
              "236    2010-12-01 10:24:00       0.29     17548.0  United Kingdom  \n",
              "237    2010-12-01 10:24:00       0.29     17548.0  United Kingdom  \n",
              "...                    ...        ...         ...             ...  \n",
              "540449 2011-12-09 09:57:00       0.83     14397.0  United Kingdom  \n",
              "541541 2011-12-09 10:28:00     224.69     15498.0  United Kingdom  \n",
              "541715 2011-12-09 11:57:00      10.95     15311.0  United Kingdom  \n",
              "541716 2011-12-09 11:58:00       1.25     17315.0  United Kingdom  \n",
              "541717 2011-12-09 11:58:00       1.25     17315.0  United Kingdom  \n",
              "\n",
              "[10624 rows x 8 columns]"
            ],
            "text/html": [
              "\n",
              "  <div id=\"df-a1c90ed1-9332-4036-999b-599573536e57\">\n",
              "    <div class=\"colab-df-container\">\n",
              "      <div>\n",
              "<style scoped>\n",
              "    .dataframe tbody tr th:only-of-type {\n",
              "        vertical-align: middle;\n",
              "    }\n",
              "\n",
              "    .dataframe tbody tr th {\n",
              "        vertical-align: top;\n",
              "    }\n",
              "\n",
              "    .dataframe thead th {\n",
              "        text-align: right;\n",
              "    }\n",
              "</style>\n",
              "<table border=\"1\" class=\"dataframe\">\n",
              "  <thead>\n",
              "    <tr style=\"text-align: right;\">\n",
              "      <th></th>\n",
              "      <th>InvoiceNo</th>\n",
              "      <th>StockCode</th>\n",
              "      <th>Description</th>\n",
              "      <th>Quantity</th>\n",
              "      <th>InvoiceDate</th>\n",
              "      <th>UnitPrice</th>\n",
              "      <th>CustomerID</th>\n",
              "      <th>Country</th>\n",
              "    </tr>\n",
              "  </thead>\n",
              "  <tbody>\n",
              "    <tr>\n",
              "      <th>141</th>\n",
              "      <td>C536379</td>\n",
              "      <td>D</td>\n",
              "      <td>Discount</td>\n",
              "      <td>-1</td>\n",
              "      <td>2010-12-01 09:41:00</td>\n",
              "      <td>27.50</td>\n",
              "      <td>14527.0</td>\n",
              "      <td>United Kingdom</td>\n",
              "    </tr>\n",
              "    <tr>\n",
              "      <th>154</th>\n",
              "      <td>C536383</td>\n",
              "      <td>35004C</td>\n",
              "      <td>SET OF 3 COLOURED  FLYING DUCKS</td>\n",
              "      <td>-1</td>\n",
              "      <td>2010-12-01 09:49:00</td>\n",
              "      <td>4.65</td>\n",
              "      <td>15311.0</td>\n",
              "      <td>United Kingdom</td>\n",
              "    </tr>\n",
              "    <tr>\n",
              "      <th>235</th>\n",
              "      <td>C536391</td>\n",
              "      <td>22556</td>\n",
              "      <td>PLASTERS IN TIN CIRCUS PARADE</td>\n",
              "      <td>-12</td>\n",
              "      <td>2010-12-01 10:24:00</td>\n",
              "      <td>1.65</td>\n",
              "      <td>17548.0</td>\n",
              "      <td>United Kingdom</td>\n",
              "    </tr>\n",
              "    <tr>\n",
              "      <th>236</th>\n",
              "      <td>C536391</td>\n",
              "      <td>21984</td>\n",
              "      <td>PACK OF 12 PINK PAISLEY TISSUES</td>\n",
              "      <td>-24</td>\n",
              "      <td>2010-12-01 10:24:00</td>\n",
              "      <td>0.29</td>\n",
              "      <td>17548.0</td>\n",
              "      <td>United Kingdom</td>\n",
              "    </tr>\n",
              "    <tr>\n",
              "      <th>237</th>\n",
              "      <td>C536391</td>\n",
              "      <td>21983</td>\n",
              "      <td>PACK OF 12 BLUE PAISLEY TISSUES</td>\n",
              "      <td>-24</td>\n",
              "      <td>2010-12-01 10:24:00</td>\n",
              "      <td>0.29</td>\n",
              "      <td>17548.0</td>\n",
              "      <td>United Kingdom</td>\n",
              "    </tr>\n",
              "    <tr>\n",
              "      <th>...</th>\n",
              "      <td>...</td>\n",
              "      <td>...</td>\n",
              "      <td>...</td>\n",
              "      <td>...</td>\n",
              "      <td>...</td>\n",
              "      <td>...</td>\n",
              "      <td>...</td>\n",
              "      <td>...</td>\n",
              "    </tr>\n",
              "    <tr>\n",
              "      <th>540449</th>\n",
              "      <td>C581490</td>\n",
              "      <td>23144</td>\n",
              "      <td>ZINC T-LIGHT HOLDER STARS SMALL</td>\n",
              "      <td>-11</td>\n",
              "      <td>2011-12-09 09:57:00</td>\n",
              "      <td>0.83</td>\n",
              "      <td>14397.0</td>\n",
              "      <td>United Kingdom</td>\n",
              "    </tr>\n",
              "    <tr>\n",
              "      <th>541541</th>\n",
              "      <td>C581499</td>\n",
              "      <td>M</td>\n",
              "      <td>Manual</td>\n",
              "      <td>-1</td>\n",
              "      <td>2011-12-09 10:28:00</td>\n",
              "      <td>224.69</td>\n",
              "      <td>15498.0</td>\n",
              "      <td>United Kingdom</td>\n",
              "    </tr>\n",
              "    <tr>\n",
              "      <th>541715</th>\n",
              "      <td>C581568</td>\n",
              "      <td>21258</td>\n",
              "      <td>VICTORIAN SEWING BOX LARGE</td>\n",
              "      <td>-5</td>\n",
              "      <td>2011-12-09 11:57:00</td>\n",
              "      <td>10.95</td>\n",
              "      <td>15311.0</td>\n",
              "      <td>United Kingdom</td>\n",
              "    </tr>\n",
              "    <tr>\n",
              "      <th>541716</th>\n",
              "      <td>C581569</td>\n",
              "      <td>84978</td>\n",
              "      <td>HANGING HEART JAR T-LIGHT HOLDER</td>\n",
              "      <td>-1</td>\n",
              "      <td>2011-12-09 11:58:00</td>\n",
              "      <td>1.25</td>\n",
              "      <td>17315.0</td>\n",
              "      <td>United Kingdom</td>\n",
              "    </tr>\n",
              "    <tr>\n",
              "      <th>541717</th>\n",
              "      <td>C581569</td>\n",
              "      <td>20979</td>\n",
              "      <td>36 PENCILS TUBE RED RETROSPOT</td>\n",
              "      <td>-5</td>\n",
              "      <td>2011-12-09 11:58:00</td>\n",
              "      <td>1.25</td>\n",
              "      <td>17315.0</td>\n",
              "      <td>United Kingdom</td>\n",
              "    </tr>\n",
              "  </tbody>\n",
              "</table>\n",
              "<p>10624 rows × 8 columns</p>\n",
              "</div>\n",
              "      <button class=\"colab-df-convert\" onclick=\"convertToInteractive('df-a1c90ed1-9332-4036-999b-599573536e57')\"\n",
              "              title=\"Convert this dataframe to an interactive table.\"\n",
              "              style=\"display:none;\">\n",
              "        \n",
              "  <svg xmlns=\"http://www.w3.org/2000/svg\" height=\"24px\"viewBox=\"0 0 24 24\"\n",
              "       width=\"24px\">\n",
              "    <path d=\"M0 0h24v24H0V0z\" fill=\"none\"/>\n",
              "    <path d=\"M18.56 5.44l.94 2.06.94-2.06 2.06-.94-2.06-.94-.94-2.06-.94 2.06-2.06.94zm-11 1L8.5 8.5l.94-2.06 2.06-.94-2.06-.94L8.5 2.5l-.94 2.06-2.06.94zm10 10l.94 2.06.94-2.06 2.06-.94-2.06-.94-.94-2.06-.94 2.06-2.06.94z\"/><path d=\"M17.41 7.96l-1.37-1.37c-.4-.4-.92-.59-1.43-.59-.52 0-1.04.2-1.43.59L10.3 9.45l-7.72 7.72c-.78.78-.78 2.05 0 2.83L4 21.41c.39.39.9.59 1.41.59.51 0 1.02-.2 1.41-.59l7.78-7.78 2.81-2.81c.8-.78.8-2.07 0-2.86zM5.41 20L4 18.59l7.72-7.72 1.47 1.35L5.41 20z\"/>\n",
              "  </svg>\n",
              "      </button>\n",
              "      \n",
              "  <style>\n",
              "    .colab-df-container {\n",
              "      display:flex;\n",
              "      flex-wrap:wrap;\n",
              "      gap: 12px;\n",
              "    }\n",
              "\n",
              "    .colab-df-convert {\n",
              "      background-color: #E8F0FE;\n",
              "      border: none;\n",
              "      border-radius: 50%;\n",
              "      cursor: pointer;\n",
              "      display: none;\n",
              "      fill: #1967D2;\n",
              "      height: 32px;\n",
              "      padding: 0 0 0 0;\n",
              "      width: 32px;\n",
              "    }\n",
              "\n",
              "    .colab-df-convert:hover {\n",
              "      background-color: #E2EBFA;\n",
              "      box-shadow: 0px 1px 2px rgba(60, 64, 67, 0.3), 0px 1px 3px 1px rgba(60, 64, 67, 0.15);\n",
              "      fill: #174EA6;\n",
              "    }\n",
              "\n",
              "    [theme=dark] .colab-df-convert {\n",
              "      background-color: #3B4455;\n",
              "      fill: #D2E3FC;\n",
              "    }\n",
              "\n",
              "    [theme=dark] .colab-df-convert:hover {\n",
              "      background-color: #434B5C;\n",
              "      box-shadow: 0px 1px 3px 1px rgba(0, 0, 0, 0.15);\n",
              "      filter: drop-shadow(0px 1px 2px rgba(0, 0, 0, 0.3));\n",
              "      fill: #FFFFFF;\n",
              "    }\n",
              "  </style>\n",
              "\n",
              "      <script>\n",
              "        const buttonEl =\n",
              "          document.querySelector('#df-a1c90ed1-9332-4036-999b-599573536e57 button.colab-df-convert');\n",
              "        buttonEl.style.display =\n",
              "          google.colab.kernel.accessAllowed ? 'block' : 'none';\n",
              "\n",
              "        async function convertToInteractive(key) {\n",
              "          const element = document.querySelector('#df-a1c90ed1-9332-4036-999b-599573536e57');\n",
              "          const dataTable =\n",
              "            await google.colab.kernel.invokeFunction('convertToInteractive',\n",
              "                                                     [key], {});\n",
              "          if (!dataTable) return;\n",
              "\n",
              "          const docLinkHtml = 'Like what you see? Visit the ' +\n",
              "            '<a target=\"_blank\" href=https://colab.research.google.com/notebooks/data_table.ipynb>data table notebook</a>'\n",
              "            + ' to learn more about interactive tables.';\n",
              "          element.innerHTML = '';\n",
              "          dataTable['output_type'] = 'display_data';\n",
              "          await google.colab.output.renderOutput(dataTable, element);\n",
              "          const docLink = document.createElement('div');\n",
              "          docLink.innerHTML = docLinkHtml;\n",
              "          element.appendChild(docLink);\n",
              "        }\n",
              "      </script>\n",
              "    </div>\n",
              "  </div>\n",
              "  "
            ]
          },
          "metadata": {},
          "execution_count": 22
        }
      ]
    },
    {
      "cell_type": "code",
      "source": [
        "df[(df.Quantity < 0) & (df['InvoiceNo'].str.startswith('C'))]"
      ],
      "metadata": {
        "colab": {
          "base_uri": "https://localhost:8080/",
          "height": 424
        },
        "id": "YdWNeDLbhPLA",
        "outputId": "dfb0ae86-44af-4532-ea7e-a1f3b943e088"
      },
      "execution_count": 23,
      "outputs": [
        {
          "output_type": "execute_result",
          "data": {
            "text/plain": [
              "       InvoiceNo StockCode                       Description  Quantity  \\\n",
              "141      C536379         D                          Discount        -1   \n",
              "154      C536383    35004C   SET OF 3 COLOURED  FLYING DUCKS        -1   \n",
              "235      C536391     22556    PLASTERS IN TIN CIRCUS PARADE        -12   \n",
              "236      C536391     21984  PACK OF 12 PINK PAISLEY TISSUES        -24   \n",
              "237      C536391     21983  PACK OF 12 BLUE PAISLEY TISSUES        -24   \n",
              "...          ...       ...                               ...       ...   \n",
              "540449   C581490     23144   ZINC T-LIGHT HOLDER STARS SMALL       -11   \n",
              "541541   C581499         M                            Manual        -1   \n",
              "541715   C581568     21258        VICTORIAN SEWING BOX LARGE        -5   \n",
              "541716   C581569     84978  HANGING HEART JAR T-LIGHT HOLDER        -1   \n",
              "541717   C581569     20979     36 PENCILS TUBE RED RETROSPOT        -5   \n",
              "\n",
              "               InvoiceDate  UnitPrice  CustomerID         Country  \n",
              "141    2010-12-01 09:41:00      27.50     14527.0  United Kingdom  \n",
              "154    2010-12-01 09:49:00       4.65     15311.0  United Kingdom  \n",
              "235    2010-12-01 10:24:00       1.65     17548.0  United Kingdom  \n",
              "236    2010-12-01 10:24:00       0.29     17548.0  United Kingdom  \n",
              "237    2010-12-01 10:24:00       0.29     17548.0  United Kingdom  \n",
              "...                    ...        ...         ...             ...  \n",
              "540449 2011-12-09 09:57:00       0.83     14397.0  United Kingdom  \n",
              "541541 2011-12-09 10:28:00     224.69     15498.0  United Kingdom  \n",
              "541715 2011-12-09 11:57:00      10.95     15311.0  United Kingdom  \n",
              "541716 2011-12-09 11:58:00       1.25     17315.0  United Kingdom  \n",
              "541717 2011-12-09 11:58:00       1.25     17315.0  United Kingdom  \n",
              "\n",
              "[9288 rows x 8 columns]"
            ],
            "text/html": [
              "\n",
              "  <div id=\"df-0ba9cce6-dab4-49c3-a449-44b659924243\">\n",
              "    <div class=\"colab-df-container\">\n",
              "      <div>\n",
              "<style scoped>\n",
              "    .dataframe tbody tr th:only-of-type {\n",
              "        vertical-align: middle;\n",
              "    }\n",
              "\n",
              "    .dataframe tbody tr th {\n",
              "        vertical-align: top;\n",
              "    }\n",
              "\n",
              "    .dataframe thead th {\n",
              "        text-align: right;\n",
              "    }\n",
              "</style>\n",
              "<table border=\"1\" class=\"dataframe\">\n",
              "  <thead>\n",
              "    <tr style=\"text-align: right;\">\n",
              "      <th></th>\n",
              "      <th>InvoiceNo</th>\n",
              "      <th>StockCode</th>\n",
              "      <th>Description</th>\n",
              "      <th>Quantity</th>\n",
              "      <th>InvoiceDate</th>\n",
              "      <th>UnitPrice</th>\n",
              "      <th>CustomerID</th>\n",
              "      <th>Country</th>\n",
              "    </tr>\n",
              "  </thead>\n",
              "  <tbody>\n",
              "    <tr>\n",
              "      <th>141</th>\n",
              "      <td>C536379</td>\n",
              "      <td>D</td>\n",
              "      <td>Discount</td>\n",
              "      <td>-1</td>\n",
              "      <td>2010-12-01 09:41:00</td>\n",
              "      <td>27.50</td>\n",
              "      <td>14527.0</td>\n",
              "      <td>United Kingdom</td>\n",
              "    </tr>\n",
              "    <tr>\n",
              "      <th>154</th>\n",
              "      <td>C536383</td>\n",
              "      <td>35004C</td>\n",
              "      <td>SET OF 3 COLOURED  FLYING DUCKS</td>\n",
              "      <td>-1</td>\n",
              "      <td>2010-12-01 09:49:00</td>\n",
              "      <td>4.65</td>\n",
              "      <td>15311.0</td>\n",
              "      <td>United Kingdom</td>\n",
              "    </tr>\n",
              "    <tr>\n",
              "      <th>235</th>\n",
              "      <td>C536391</td>\n",
              "      <td>22556</td>\n",
              "      <td>PLASTERS IN TIN CIRCUS PARADE</td>\n",
              "      <td>-12</td>\n",
              "      <td>2010-12-01 10:24:00</td>\n",
              "      <td>1.65</td>\n",
              "      <td>17548.0</td>\n",
              "      <td>United Kingdom</td>\n",
              "    </tr>\n",
              "    <tr>\n",
              "      <th>236</th>\n",
              "      <td>C536391</td>\n",
              "      <td>21984</td>\n",
              "      <td>PACK OF 12 PINK PAISLEY TISSUES</td>\n",
              "      <td>-24</td>\n",
              "      <td>2010-12-01 10:24:00</td>\n",
              "      <td>0.29</td>\n",
              "      <td>17548.0</td>\n",
              "      <td>United Kingdom</td>\n",
              "    </tr>\n",
              "    <tr>\n",
              "      <th>237</th>\n",
              "      <td>C536391</td>\n",
              "      <td>21983</td>\n",
              "      <td>PACK OF 12 BLUE PAISLEY TISSUES</td>\n",
              "      <td>-24</td>\n",
              "      <td>2010-12-01 10:24:00</td>\n",
              "      <td>0.29</td>\n",
              "      <td>17548.0</td>\n",
              "      <td>United Kingdom</td>\n",
              "    </tr>\n",
              "    <tr>\n",
              "      <th>...</th>\n",
              "      <td>...</td>\n",
              "      <td>...</td>\n",
              "      <td>...</td>\n",
              "      <td>...</td>\n",
              "      <td>...</td>\n",
              "      <td>...</td>\n",
              "      <td>...</td>\n",
              "      <td>...</td>\n",
              "    </tr>\n",
              "    <tr>\n",
              "      <th>540449</th>\n",
              "      <td>C581490</td>\n",
              "      <td>23144</td>\n",
              "      <td>ZINC T-LIGHT HOLDER STARS SMALL</td>\n",
              "      <td>-11</td>\n",
              "      <td>2011-12-09 09:57:00</td>\n",
              "      <td>0.83</td>\n",
              "      <td>14397.0</td>\n",
              "      <td>United Kingdom</td>\n",
              "    </tr>\n",
              "    <tr>\n",
              "      <th>541541</th>\n",
              "      <td>C581499</td>\n",
              "      <td>M</td>\n",
              "      <td>Manual</td>\n",
              "      <td>-1</td>\n",
              "      <td>2011-12-09 10:28:00</td>\n",
              "      <td>224.69</td>\n",
              "      <td>15498.0</td>\n",
              "      <td>United Kingdom</td>\n",
              "    </tr>\n",
              "    <tr>\n",
              "      <th>541715</th>\n",
              "      <td>C581568</td>\n",
              "      <td>21258</td>\n",
              "      <td>VICTORIAN SEWING BOX LARGE</td>\n",
              "      <td>-5</td>\n",
              "      <td>2011-12-09 11:57:00</td>\n",
              "      <td>10.95</td>\n",
              "      <td>15311.0</td>\n",
              "      <td>United Kingdom</td>\n",
              "    </tr>\n",
              "    <tr>\n",
              "      <th>541716</th>\n",
              "      <td>C581569</td>\n",
              "      <td>84978</td>\n",
              "      <td>HANGING HEART JAR T-LIGHT HOLDER</td>\n",
              "      <td>-1</td>\n",
              "      <td>2011-12-09 11:58:00</td>\n",
              "      <td>1.25</td>\n",
              "      <td>17315.0</td>\n",
              "      <td>United Kingdom</td>\n",
              "    </tr>\n",
              "    <tr>\n",
              "      <th>541717</th>\n",
              "      <td>C581569</td>\n",
              "      <td>20979</td>\n",
              "      <td>36 PENCILS TUBE RED RETROSPOT</td>\n",
              "      <td>-5</td>\n",
              "      <td>2011-12-09 11:58:00</td>\n",
              "      <td>1.25</td>\n",
              "      <td>17315.0</td>\n",
              "      <td>United Kingdom</td>\n",
              "    </tr>\n",
              "  </tbody>\n",
              "</table>\n",
              "<p>9288 rows × 8 columns</p>\n",
              "</div>\n",
              "      <button class=\"colab-df-convert\" onclick=\"convertToInteractive('df-0ba9cce6-dab4-49c3-a449-44b659924243')\"\n",
              "              title=\"Convert this dataframe to an interactive table.\"\n",
              "              style=\"display:none;\">\n",
              "        \n",
              "  <svg xmlns=\"http://www.w3.org/2000/svg\" height=\"24px\"viewBox=\"0 0 24 24\"\n",
              "       width=\"24px\">\n",
              "    <path d=\"M0 0h24v24H0V0z\" fill=\"none\"/>\n",
              "    <path d=\"M18.56 5.44l.94 2.06.94-2.06 2.06-.94-2.06-.94-.94-2.06-.94 2.06-2.06.94zm-11 1L8.5 8.5l.94-2.06 2.06-.94-2.06-.94L8.5 2.5l-.94 2.06-2.06.94zm10 10l.94 2.06.94-2.06 2.06-.94-2.06-.94-.94-2.06-.94 2.06-2.06.94z\"/><path d=\"M17.41 7.96l-1.37-1.37c-.4-.4-.92-.59-1.43-.59-.52 0-1.04.2-1.43.59L10.3 9.45l-7.72 7.72c-.78.78-.78 2.05 0 2.83L4 21.41c.39.39.9.59 1.41.59.51 0 1.02-.2 1.41-.59l7.78-7.78 2.81-2.81c.8-.78.8-2.07 0-2.86zM5.41 20L4 18.59l7.72-7.72 1.47 1.35L5.41 20z\"/>\n",
              "  </svg>\n",
              "      </button>\n",
              "      \n",
              "  <style>\n",
              "    .colab-df-container {\n",
              "      display:flex;\n",
              "      flex-wrap:wrap;\n",
              "      gap: 12px;\n",
              "    }\n",
              "\n",
              "    .colab-df-convert {\n",
              "      background-color: #E8F0FE;\n",
              "      border: none;\n",
              "      border-radius: 50%;\n",
              "      cursor: pointer;\n",
              "      display: none;\n",
              "      fill: #1967D2;\n",
              "      height: 32px;\n",
              "      padding: 0 0 0 0;\n",
              "      width: 32px;\n",
              "    }\n",
              "\n",
              "    .colab-df-convert:hover {\n",
              "      background-color: #E2EBFA;\n",
              "      box-shadow: 0px 1px 2px rgba(60, 64, 67, 0.3), 0px 1px 3px 1px rgba(60, 64, 67, 0.15);\n",
              "      fill: #174EA6;\n",
              "    }\n",
              "\n",
              "    [theme=dark] .colab-df-convert {\n",
              "      background-color: #3B4455;\n",
              "      fill: #D2E3FC;\n",
              "    }\n",
              "\n",
              "    [theme=dark] .colab-df-convert:hover {\n",
              "      background-color: #434B5C;\n",
              "      box-shadow: 0px 1px 3px 1px rgba(0, 0, 0, 0.15);\n",
              "      filter: drop-shadow(0px 1px 2px rgba(0, 0, 0, 0.3));\n",
              "      fill: #FFFFFF;\n",
              "    }\n",
              "  </style>\n",
              "\n",
              "      <script>\n",
              "        const buttonEl =\n",
              "          document.querySelector('#df-0ba9cce6-dab4-49c3-a449-44b659924243 button.colab-df-convert');\n",
              "        buttonEl.style.display =\n",
              "          google.colab.kernel.accessAllowed ? 'block' : 'none';\n",
              "\n",
              "        async function convertToInteractive(key) {\n",
              "          const element = document.querySelector('#df-0ba9cce6-dab4-49c3-a449-44b659924243');\n",
              "          const dataTable =\n",
              "            await google.colab.kernel.invokeFunction('convertToInteractive',\n",
              "                                                     [key], {});\n",
              "          if (!dataTable) return;\n",
              "\n",
              "          const docLinkHtml = 'Like what you see? Visit the ' +\n",
              "            '<a target=\"_blank\" href=https://colab.research.google.com/notebooks/data_table.ipynb>data table notebook</a>'\n",
              "            + ' to learn more about interactive tables.';\n",
              "          element.innerHTML = '';\n",
              "          dataTable['output_type'] = 'display_data';\n",
              "          await google.colab.output.renderOutput(dataTable, element);\n",
              "          const docLink = document.createElement('div');\n",
              "          docLink.innerHTML = docLinkHtml;\n",
              "          element.appendChild(docLink);\n",
              "        }\n",
              "      </script>\n",
              "    </div>\n",
              "  </div>\n",
              "  "
            ]
          },
          "metadata": {},
          "execution_count": 23
        }
      ]
    },
    {
      "cell_type": "markdown",
      "source": [
        "#df1"
      ],
      "metadata": {
        "id": "qSGNUfk5TrGd"
      }
    },
    {
      "cell_type": "code",
      "source": [
        "# dropping rows with -ve quantity\n",
        "\n",
        "df1 = df[(df.Quantity > 0)]"
      ],
      "metadata": {
        "id": "rrl9zd0IjIlu"
      },
      "execution_count": 24,
      "outputs": []
    },
    {
      "cell_type": "code",
      "source": [
        "df1 = df1[df1.UnitPrice != 0]"
      ],
      "metadata": {
        "id": "TfkfdDTnlsmY"
      },
      "execution_count": 25,
      "outputs": []
    },
    {
      "cell_type": "code",
      "source": [
        "df1.info()"
      ],
      "metadata": {
        "colab": {
          "base_uri": "https://localhost:8080/"
        },
        "id": "Jm8fZgDeOv4p",
        "outputId": "6d42e609-9232-4134-a35d-dfbff842de64"
      },
      "execution_count": 26,
      "outputs": [
        {
          "output_type": "stream",
          "name": "stdout",
          "text": [
            "<class 'pandas.core.frame.DataFrame'>\n",
            "Int64Index: 530106 entries, 0 to 541908\n",
            "Data columns (total 8 columns):\n",
            " #   Column       Non-Null Count   Dtype         \n",
            "---  ------       --------------   -----         \n",
            " 0   InvoiceNo    530106 non-null  object        \n",
            " 1   StockCode    530106 non-null  object        \n",
            " 2   Description  530106 non-null  object        \n",
            " 3   Quantity     530106 non-null  int64         \n",
            " 4   InvoiceDate  530106 non-null  datetime64[ns]\n",
            " 5   UnitPrice    530106 non-null  float64       \n",
            " 6   CustomerID   397884 non-null  float64       \n",
            " 7   Country      530106 non-null  object        \n",
            "dtypes: datetime64[ns](1), float64(2), int64(1), object(4)\n",
            "memory usage: 36.4+ MB\n"
          ]
        }
      ]
    },
    {
      "cell_type": "code",
      "source": [
        "df1[(df1.Quantity > 0) & (df1['InvoiceNo'].str.startswith('C'))]"
      ],
      "metadata": {
        "colab": {
          "base_uri": "https://localhost:8080/",
          "height": 49
        },
        "id": "OvtKvKalTh6h",
        "outputId": "8d234b3f-d8bc-41fa-d3e7-362c7e94be4b"
      },
      "execution_count": 27,
      "outputs": [
        {
          "output_type": "execute_result",
          "data": {
            "text/plain": [
              "Empty DataFrame\n",
              "Columns: [InvoiceNo, StockCode, Description, Quantity, InvoiceDate, UnitPrice, CustomerID, Country]\n",
              "Index: []"
            ],
            "text/html": [
              "\n",
              "  <div id=\"df-8ecde5fe-f0dc-49aa-8396-e79d5eb206e8\">\n",
              "    <div class=\"colab-df-container\">\n",
              "      <div>\n",
              "<style scoped>\n",
              "    .dataframe tbody tr th:only-of-type {\n",
              "        vertical-align: middle;\n",
              "    }\n",
              "\n",
              "    .dataframe tbody tr th {\n",
              "        vertical-align: top;\n",
              "    }\n",
              "\n",
              "    .dataframe thead th {\n",
              "        text-align: right;\n",
              "    }\n",
              "</style>\n",
              "<table border=\"1\" class=\"dataframe\">\n",
              "  <thead>\n",
              "    <tr style=\"text-align: right;\">\n",
              "      <th></th>\n",
              "      <th>InvoiceNo</th>\n",
              "      <th>StockCode</th>\n",
              "      <th>Description</th>\n",
              "      <th>Quantity</th>\n",
              "      <th>InvoiceDate</th>\n",
              "      <th>UnitPrice</th>\n",
              "      <th>CustomerID</th>\n",
              "      <th>Country</th>\n",
              "    </tr>\n",
              "  </thead>\n",
              "  <tbody>\n",
              "  </tbody>\n",
              "</table>\n",
              "</div>\n",
              "      <button class=\"colab-df-convert\" onclick=\"convertToInteractive('df-8ecde5fe-f0dc-49aa-8396-e79d5eb206e8')\"\n",
              "              title=\"Convert this dataframe to an interactive table.\"\n",
              "              style=\"display:none;\">\n",
              "        \n",
              "  <svg xmlns=\"http://www.w3.org/2000/svg\" height=\"24px\"viewBox=\"0 0 24 24\"\n",
              "       width=\"24px\">\n",
              "    <path d=\"M0 0h24v24H0V0z\" fill=\"none\"/>\n",
              "    <path d=\"M18.56 5.44l.94 2.06.94-2.06 2.06-.94-2.06-.94-.94-2.06-.94 2.06-2.06.94zm-11 1L8.5 8.5l.94-2.06 2.06-.94-2.06-.94L8.5 2.5l-.94 2.06-2.06.94zm10 10l.94 2.06.94-2.06 2.06-.94-2.06-.94-.94-2.06-.94 2.06-2.06.94z\"/><path d=\"M17.41 7.96l-1.37-1.37c-.4-.4-.92-.59-1.43-.59-.52 0-1.04.2-1.43.59L10.3 9.45l-7.72 7.72c-.78.78-.78 2.05 0 2.83L4 21.41c.39.39.9.59 1.41.59.51 0 1.02-.2 1.41-.59l7.78-7.78 2.81-2.81c.8-.78.8-2.07 0-2.86zM5.41 20L4 18.59l7.72-7.72 1.47 1.35L5.41 20z\"/>\n",
              "  </svg>\n",
              "      </button>\n",
              "      \n",
              "  <style>\n",
              "    .colab-df-container {\n",
              "      display:flex;\n",
              "      flex-wrap:wrap;\n",
              "      gap: 12px;\n",
              "    }\n",
              "\n",
              "    .colab-df-convert {\n",
              "      background-color: #E8F0FE;\n",
              "      border: none;\n",
              "      border-radius: 50%;\n",
              "      cursor: pointer;\n",
              "      display: none;\n",
              "      fill: #1967D2;\n",
              "      height: 32px;\n",
              "      padding: 0 0 0 0;\n",
              "      width: 32px;\n",
              "    }\n",
              "\n",
              "    .colab-df-convert:hover {\n",
              "      background-color: #E2EBFA;\n",
              "      box-shadow: 0px 1px 2px rgba(60, 64, 67, 0.3), 0px 1px 3px 1px rgba(60, 64, 67, 0.15);\n",
              "      fill: #174EA6;\n",
              "    }\n",
              "\n",
              "    [theme=dark] .colab-df-convert {\n",
              "      background-color: #3B4455;\n",
              "      fill: #D2E3FC;\n",
              "    }\n",
              "\n",
              "    [theme=dark] .colab-df-convert:hover {\n",
              "      background-color: #434B5C;\n",
              "      box-shadow: 0px 1px 3px 1px rgba(0, 0, 0, 0.15);\n",
              "      filter: drop-shadow(0px 1px 2px rgba(0, 0, 0, 0.3));\n",
              "      fill: #FFFFFF;\n",
              "    }\n",
              "  </style>\n",
              "\n",
              "      <script>\n",
              "        const buttonEl =\n",
              "          document.querySelector('#df-8ecde5fe-f0dc-49aa-8396-e79d5eb206e8 button.colab-df-convert');\n",
              "        buttonEl.style.display =\n",
              "          google.colab.kernel.accessAllowed ? 'block' : 'none';\n",
              "\n",
              "        async function convertToInteractive(key) {\n",
              "          const element = document.querySelector('#df-8ecde5fe-f0dc-49aa-8396-e79d5eb206e8');\n",
              "          const dataTable =\n",
              "            await google.colab.kernel.invokeFunction('convertToInteractive',\n",
              "                                                     [key], {});\n",
              "          if (!dataTable) return;\n",
              "\n",
              "          const docLinkHtml = 'Like what you see? Visit the ' +\n",
              "            '<a target=\"_blank\" href=https://colab.research.google.com/notebooks/data_table.ipynb>data table notebook</a>'\n",
              "            + ' to learn more about interactive tables.';\n",
              "          element.innerHTML = '';\n",
              "          dataTable['output_type'] = 'display_data';\n",
              "          await google.colab.output.renderOutput(dataTable, element);\n",
              "          const docLink = document.createElement('div');\n",
              "          docLink.innerHTML = docLinkHtml;\n",
              "          element.appendChild(docLink);\n",
              "        }\n",
              "      </script>\n",
              "    </div>\n",
              "  </div>\n",
              "  "
            ]
          },
          "metadata": {},
          "execution_count": 27
        }
      ]
    },
    {
      "cell_type": "code",
      "source": [
        ""
      ],
      "metadata": {
        "id": "JTaW-oFWc9di"
      },
      "execution_count": 27,
      "outputs": []
    },
    {
      "cell_type": "code",
      "metadata": {
        "id": "QdmqmIymqH3V"
      },
      "source": [
        "df['InvoiceNo'] = df['InvoiceNo'].astype('str')"
      ],
      "execution_count": 28,
      "outputs": []
    },
    {
      "cell_type": "code",
      "metadata": {
        "id": "EtVGYweboV0y"
      },
      "source": [
        "df=df[~df['InvoiceNo'].str.contains('C')]"
      ],
      "execution_count": 29,
      "outputs": []
    },
    {
      "cell_type": "code",
      "metadata": {
        "colab": {
          "base_uri": "https://localhost:8080/"
        },
        "id": "yCMcR82ryO88",
        "outputId": "c2782ecc-194a-4b58-95a7-a8e648719a97"
      },
      "source": [
        "df.shape"
      ],
      "execution_count": 30,
      "outputs": [
        {
          "output_type": "execute_result",
          "data": {
            "text/plain": [
              "(532621, 8)"
            ]
          },
          "metadata": {},
          "execution_count": 30
        }
      ]
    },
    {
      "cell_type": "code",
      "metadata": {
        "colab": {
          "base_uri": "https://localhost:8080/",
          "height": 300
        },
        "id": "vBvDw1wrN_jC",
        "outputId": "472afebf-dbed-4583-b0f2-a719206fadfd"
      },
      "source": [
        "df.describe()"
      ],
      "execution_count": 31,
      "outputs": [
        {
          "output_type": "execute_result",
          "data": {
            "text/plain": [
              "            Quantity      UnitPrice     CustomerID\n",
              "count  532621.000000  532621.000000  397924.000000\n",
              "mean       10.239972       3.847621   15294.315171\n",
              "std       159.593551      41.758023    1713.169877\n",
              "min     -9600.000000  -11062.060000   12346.000000\n",
              "25%         1.000000       1.250000   13969.000000\n",
              "50%         3.000000       2.080000   15159.000000\n",
              "75%        10.000000       4.130000   16795.000000\n",
              "max     80995.000000   13541.330000   18287.000000"
            ],
            "text/html": [
              "\n",
              "  <div id=\"df-132b2944-69d3-4d3a-89bf-84ef9658ccbe\">\n",
              "    <div class=\"colab-df-container\">\n",
              "      <div>\n",
              "<style scoped>\n",
              "    .dataframe tbody tr th:only-of-type {\n",
              "        vertical-align: middle;\n",
              "    }\n",
              "\n",
              "    .dataframe tbody tr th {\n",
              "        vertical-align: top;\n",
              "    }\n",
              "\n",
              "    .dataframe thead th {\n",
              "        text-align: right;\n",
              "    }\n",
              "</style>\n",
              "<table border=\"1\" class=\"dataframe\">\n",
              "  <thead>\n",
              "    <tr style=\"text-align: right;\">\n",
              "      <th></th>\n",
              "      <th>Quantity</th>\n",
              "      <th>UnitPrice</th>\n",
              "      <th>CustomerID</th>\n",
              "    </tr>\n",
              "  </thead>\n",
              "  <tbody>\n",
              "    <tr>\n",
              "      <th>count</th>\n",
              "      <td>532621.000000</td>\n",
              "      <td>532621.000000</td>\n",
              "      <td>397924.000000</td>\n",
              "    </tr>\n",
              "    <tr>\n",
              "      <th>mean</th>\n",
              "      <td>10.239972</td>\n",
              "      <td>3.847621</td>\n",
              "      <td>15294.315171</td>\n",
              "    </tr>\n",
              "    <tr>\n",
              "      <th>std</th>\n",
              "      <td>159.593551</td>\n",
              "      <td>41.758023</td>\n",
              "      <td>1713.169877</td>\n",
              "    </tr>\n",
              "    <tr>\n",
              "      <th>min</th>\n",
              "      <td>-9600.000000</td>\n",
              "      <td>-11062.060000</td>\n",
              "      <td>12346.000000</td>\n",
              "    </tr>\n",
              "    <tr>\n",
              "      <th>25%</th>\n",
              "      <td>1.000000</td>\n",
              "      <td>1.250000</td>\n",
              "      <td>13969.000000</td>\n",
              "    </tr>\n",
              "    <tr>\n",
              "      <th>50%</th>\n",
              "      <td>3.000000</td>\n",
              "      <td>2.080000</td>\n",
              "      <td>15159.000000</td>\n",
              "    </tr>\n",
              "    <tr>\n",
              "      <th>75%</th>\n",
              "      <td>10.000000</td>\n",
              "      <td>4.130000</td>\n",
              "      <td>16795.000000</td>\n",
              "    </tr>\n",
              "    <tr>\n",
              "      <th>max</th>\n",
              "      <td>80995.000000</td>\n",
              "      <td>13541.330000</td>\n",
              "      <td>18287.000000</td>\n",
              "    </tr>\n",
              "  </tbody>\n",
              "</table>\n",
              "</div>\n",
              "      <button class=\"colab-df-convert\" onclick=\"convertToInteractive('df-132b2944-69d3-4d3a-89bf-84ef9658ccbe')\"\n",
              "              title=\"Convert this dataframe to an interactive table.\"\n",
              "              style=\"display:none;\">\n",
              "        \n",
              "  <svg xmlns=\"http://www.w3.org/2000/svg\" height=\"24px\"viewBox=\"0 0 24 24\"\n",
              "       width=\"24px\">\n",
              "    <path d=\"M0 0h24v24H0V0z\" fill=\"none\"/>\n",
              "    <path d=\"M18.56 5.44l.94 2.06.94-2.06 2.06-.94-2.06-.94-.94-2.06-.94 2.06-2.06.94zm-11 1L8.5 8.5l.94-2.06 2.06-.94-2.06-.94L8.5 2.5l-.94 2.06-2.06.94zm10 10l.94 2.06.94-2.06 2.06-.94-2.06-.94-.94-2.06-.94 2.06-2.06.94z\"/><path d=\"M17.41 7.96l-1.37-1.37c-.4-.4-.92-.59-1.43-.59-.52 0-1.04.2-1.43.59L10.3 9.45l-7.72 7.72c-.78.78-.78 2.05 0 2.83L4 21.41c.39.39.9.59 1.41.59.51 0 1.02-.2 1.41-.59l7.78-7.78 2.81-2.81c.8-.78.8-2.07 0-2.86zM5.41 20L4 18.59l7.72-7.72 1.47 1.35L5.41 20z\"/>\n",
              "  </svg>\n",
              "      </button>\n",
              "      \n",
              "  <style>\n",
              "    .colab-df-container {\n",
              "      display:flex;\n",
              "      flex-wrap:wrap;\n",
              "      gap: 12px;\n",
              "    }\n",
              "\n",
              "    .colab-df-convert {\n",
              "      background-color: #E8F0FE;\n",
              "      border: none;\n",
              "      border-radius: 50%;\n",
              "      cursor: pointer;\n",
              "      display: none;\n",
              "      fill: #1967D2;\n",
              "      height: 32px;\n",
              "      padding: 0 0 0 0;\n",
              "      width: 32px;\n",
              "    }\n",
              "\n",
              "    .colab-df-convert:hover {\n",
              "      background-color: #E2EBFA;\n",
              "      box-shadow: 0px 1px 2px rgba(60, 64, 67, 0.3), 0px 1px 3px 1px rgba(60, 64, 67, 0.15);\n",
              "      fill: #174EA6;\n",
              "    }\n",
              "\n",
              "    [theme=dark] .colab-df-convert {\n",
              "      background-color: #3B4455;\n",
              "      fill: #D2E3FC;\n",
              "    }\n",
              "\n",
              "    [theme=dark] .colab-df-convert:hover {\n",
              "      background-color: #434B5C;\n",
              "      box-shadow: 0px 1px 3px 1px rgba(0, 0, 0, 0.15);\n",
              "      filter: drop-shadow(0px 1px 2px rgba(0, 0, 0, 0.3));\n",
              "      fill: #FFFFFF;\n",
              "    }\n",
              "  </style>\n",
              "\n",
              "      <script>\n",
              "        const buttonEl =\n",
              "          document.querySelector('#df-132b2944-69d3-4d3a-89bf-84ef9658ccbe button.colab-df-convert');\n",
              "        buttonEl.style.display =\n",
              "          google.colab.kernel.accessAllowed ? 'block' : 'none';\n",
              "\n",
              "        async function convertToInteractive(key) {\n",
              "          const element = document.querySelector('#df-132b2944-69d3-4d3a-89bf-84ef9658ccbe');\n",
              "          const dataTable =\n",
              "            await google.colab.kernel.invokeFunction('convertToInteractive',\n",
              "                                                     [key], {});\n",
              "          if (!dataTable) return;\n",
              "\n",
              "          const docLinkHtml = 'Like what you see? Visit the ' +\n",
              "            '<a target=\"_blank\" href=https://colab.research.google.com/notebooks/data_table.ipynb>data table notebook</a>'\n",
              "            + ' to learn more about interactive tables.';\n",
              "          element.innerHTML = '';\n",
              "          dataTable['output_type'] = 'display_data';\n",
              "          await google.colab.output.renderOutput(dataTable, element);\n",
              "          const docLink = document.createElement('div');\n",
              "          docLink.innerHTML = docLinkHtml;\n",
              "          element.appendChild(docLink);\n",
              "        }\n",
              "      </script>\n",
              "    </div>\n",
              "  </div>\n",
              "  "
            ]
          },
          "metadata": {},
          "execution_count": 31
        }
      ]
    },
    {
      "cell_type": "code",
      "metadata": {
        "colab": {
          "base_uri": "https://localhost:8080/"
        },
        "id": "5HbsqJ7tPTzw",
        "outputId": "887b9f8a-f244-4508-ae35-9470c707ce01"
      },
      "source": [
        "df.columns"
      ],
      "execution_count": 32,
      "outputs": [
        {
          "output_type": "execute_result",
          "data": {
            "text/plain": [
              "Index(['InvoiceNo', 'StockCode', 'Description', 'Quantity', 'InvoiceDate',\n",
              "       'UnitPrice', 'CustomerID', 'Country'],\n",
              "      dtype='object')"
            ]
          },
          "metadata": {},
          "execution_count": 32
        }
      ]
    },
    {
      "cell_type": "markdown",
      "metadata": {
        "id": "ac2YsQgQmL_L"
      },
      "source": [
        "#**Exploratory data analysis**"
      ]
    },
    {
      "cell_type": "code",
      "metadata": {
        "colab": {
          "base_uri": "https://localhost:8080/",
          "height": 195
        },
        "id": "VvYP5QxzhFmp",
        "outputId": "8e39d612-4be9-4239-fdfe-119227617d59"
      },
      "source": [
        "\n",
        "Description_df=df['Description'].value_counts().reset_index()\n",
        "Description_df.rename(columns={'index': 'Description_Name'}, inplace=True)\n",
        "Description_df.rename(columns={'Description': 'Count'}, inplace=True)\n",
        "Description_df.head()"
      ],
      "execution_count": null,
      "outputs": [
        {
          "output_type": "execute_result",
          "data": {
            "text/html": [
              "<div>\n",
              "<style scoped>\n",
              "    .dataframe tbody tr th:only-of-type {\n",
              "        vertical-align: middle;\n",
              "    }\n",
              "\n",
              "    .dataframe tbody tr th {\n",
              "        vertical-align: top;\n",
              "    }\n",
              "\n",
              "    .dataframe thead th {\n",
              "        text-align: right;\n",
              "    }\n",
              "</style>\n",
              "<table border=\"1\" class=\"dataframe\">\n",
              "  <thead>\n",
              "    <tr style=\"text-align: right;\">\n",
              "      <th></th>\n",
              "      <th>Description_Name</th>\n",
              "      <th>Count</th>\n",
              "    </tr>\n",
              "  </thead>\n",
              "  <tbody>\n",
              "    <tr>\n",
              "      <th>0</th>\n",
              "      <td>WHITE HANGING HEART T-LIGHT HOLDER</td>\n",
              "      <td>2028</td>\n",
              "    </tr>\n",
              "    <tr>\n",
              "      <th>1</th>\n",
              "      <td>REGENCY CAKESTAND 3 TIER</td>\n",
              "      <td>1724</td>\n",
              "    </tr>\n",
              "    <tr>\n",
              "      <th>2</th>\n",
              "      <td>JUMBO BAG RED RETROSPOT</td>\n",
              "      <td>1618</td>\n",
              "    </tr>\n",
              "    <tr>\n",
              "      <th>3</th>\n",
              "      <td>ASSORTED COLOUR BIRD ORNAMENT</td>\n",
              "      <td>1408</td>\n",
              "    </tr>\n",
              "    <tr>\n",
              "      <th>4</th>\n",
              "      <td>PARTY BUNTING</td>\n",
              "      <td>1397</td>\n",
              "    </tr>\n",
              "  </tbody>\n",
              "</table>\n",
              "</div>"
            ],
            "text/plain": [
              "                     Description_Name  Count\n",
              "0  WHITE HANGING HEART T-LIGHT HOLDER   2028\n",
              "1            REGENCY CAKESTAND 3 TIER   1724\n",
              "2             JUMBO BAG RED RETROSPOT   1618\n",
              "3       ASSORTED COLOUR BIRD ORNAMENT   1408\n",
              "4                       PARTY BUNTING   1397"
            ]
          },
          "metadata": {
            "tags": []
          },
          "execution_count": 19
        }
      ]
    },
    {
      "cell_type": "code",
      "metadata": {
        "colab": {
          "base_uri": "https://localhost:8080/",
          "height": 195
        },
        "id": "ZtzFjJbLjqPa",
        "outputId": "fb38a4dc-64b9-47be-f4d2-648ed5e1204a"
      },
      "source": [
        "Description_df.tail()"
      ],
      "execution_count": null,
      "outputs": [
        {
          "output_type": "execute_result",
          "data": {
            "text/html": [
              "<div>\n",
              "<style scoped>\n",
              "    .dataframe tbody tr th:only-of-type {\n",
              "        vertical-align: middle;\n",
              "    }\n",
              "\n",
              "    .dataframe tbody tr th {\n",
              "        vertical-align: top;\n",
              "    }\n",
              "\n",
              "    .dataframe thead th {\n",
              "        text-align: right;\n",
              "    }\n",
              "</style>\n",
              "<table border=\"1\" class=\"dataframe\">\n",
              "  <thead>\n",
              "    <tr style=\"text-align: right;\">\n",
              "      <th></th>\n",
              "      <th>Description_Name</th>\n",
              "      <th>Count</th>\n",
              "    </tr>\n",
              "  </thead>\n",
              "  <tbody>\n",
              "    <tr>\n",
              "      <th>3872</th>\n",
              "      <td>JARDIN ETCHED GLASS BUTTER DISH</td>\n",
              "      <td>1</td>\n",
              "    </tr>\n",
              "    <tr>\n",
              "      <th>3873</th>\n",
              "      <td>PINK ROUND COMPACT MIRROR</td>\n",
              "      <td>1</td>\n",
              "    </tr>\n",
              "    <tr>\n",
              "      <th>3874</th>\n",
              "      <td>POLYESTER FILLER PAD 60x40cm</td>\n",
              "      <td>1</td>\n",
              "    </tr>\n",
              "    <tr>\n",
              "      <th>3875</th>\n",
              "      <td>FOOD COVER WITH BEADS , SET 2 SIZES</td>\n",
              "      <td>1</td>\n",
              "    </tr>\n",
              "    <tr>\n",
              "      <th>3876</th>\n",
              "      <td>ROBIN CHRISTMAS CARD</td>\n",
              "      <td>1</td>\n",
              "    </tr>\n",
              "  </tbody>\n",
              "</table>\n",
              "</div>"
            ],
            "text/plain": [
              "                         Description_Name  Count\n",
              "3872      JARDIN ETCHED GLASS BUTTER DISH      1\n",
              "3873            PINK ROUND COMPACT MIRROR      1\n",
              "3874         POLYESTER FILLER PAD 60x40cm      1\n",
              "3875  FOOD COVER WITH BEADS , SET 2 SIZES      1\n",
              "3876                 ROBIN CHRISTMAS CARD      1"
            ]
          },
          "metadata": {
            "tags": []
          },
          "execution_count": 20
        }
      ]
    },
    {
      "cell_type": "code",
      "metadata": {
        "colab": {
          "base_uri": "https://localhost:8080/",
          "height": 698
        },
        "id": "LifeIl_GjN0Y",
        "outputId": "d19bc7da-9daa-4c9b-cea2-ac8d62e1baa4"
      },
      "source": [
        "plt.figure(figsize=(18,11))\n",
        "plt.title('Top 5 Product Name')\n",
        "sns.barplot(x='Description_Name',y='Count',data=Description_df[:5])"
      ],
      "execution_count": null,
      "outputs": [
        {
          "output_type": "execute_result",
          "data": {
            "text/plain": [
              "<matplotlib.axes._subplots.AxesSubplot at 0x7fd3035134e0>"
            ]
          },
          "metadata": {
            "tags": []
          },
          "execution_count": 21
        },
        {
          "output_type": "display_data",
          "data": {
            "image/png": "[encoded data removed]",
            "text/plain": [
              "<Figure size 1296x792 with 1 Axes>"
            ]
          },
          "metadata": {
            "tags": []
          }
        }
      ]
    },
    {
      "cell_type": "code",
      "metadata": {
        "colab": {
          "base_uri": "https://localhost:8080/",
          "height": 698
        },
        "id": "I8welEZBjhvD",
        "outputId": "5444ed69-dced-4b4e-ebbb-e037fdcde36e"
      },
      "source": [
        "plt.figure(figsize=(18,11))\n",
        "plt.title('Bottom 5 product Name')\n",
        "sns.barplot(x='Description_Name',y='Count',data=Description_df[-5:])"
      ],
      "execution_count": null,
      "outputs": [
        {
          "output_type": "execute_result",
          "data": {
            "text/plain": [
              "<matplotlib.axes._subplots.AxesSubplot at 0x7fd2f6a9bcc0>"
            ]
          },
          "metadata": {
            "tags": []
          },
          "execution_count": 22
        },
        {
          "output_type": "display_data",
          "data": {
            "image/png": "[encoded data removed]",
            "text/plain": [
              "<Figure size 1296x792 with 1 Axes>"
            ]
          },
          "metadata": {
            "tags": []
          }
        }
      ]
    },
    {
      "cell_type": "code",
      "metadata": {
        "colab": {
          "base_uri": "https://localhost:8080/",
          "height": 195
        },
        "id": "ZijvnRPQgUuc",
        "outputId": "bd3c0d33-517d-4daf-ab85-6d9d266a25ee"
      },
      "source": [
        "StockCode_df=df['StockCode'].value_counts().reset_index()\n",
        "StockCode_df.rename(columns={'index': 'StockCode_Name'}, inplace=True)\n",
        "StockCode_df.rename(columns={'StockCode': 'Count'}, inplace=True)\n",
        "StockCode_df.head()"
      ],
      "execution_count": null,
      "outputs": [
        {
          "output_type": "execute_result",
          "data": {
            "text/html": [
              "<div>\n",
              "<style scoped>\n",
              "    .dataframe tbody tr th:only-of-type {\n",
              "        vertical-align: middle;\n",
              "    }\n",
              "\n",
              "    .dataframe tbody tr th {\n",
              "        vertical-align: top;\n",
              "    }\n",
              "\n",
              "    .dataframe thead th {\n",
              "        text-align: right;\n",
              "    }\n",
              "</style>\n",
              "<table border=\"1\" class=\"dataframe\">\n",
              "  <thead>\n",
              "    <tr style=\"text-align: right;\">\n",
              "      <th></th>\n",
              "      <th>StockCode_Name</th>\n",
              "      <th>Count</th>\n",
              "    </tr>\n",
              "  </thead>\n",
              "  <tbody>\n",
              "    <tr>\n",
              "      <th>0</th>\n",
              "      <td>85123A</td>\n",
              "      <td>2035</td>\n",
              "    </tr>\n",
              "    <tr>\n",
              "      <th>1</th>\n",
              "      <td>22423</td>\n",
              "      <td>1724</td>\n",
              "    </tr>\n",
              "    <tr>\n",
              "      <th>2</th>\n",
              "      <td>85099B</td>\n",
              "      <td>1618</td>\n",
              "    </tr>\n",
              "    <tr>\n",
              "      <th>3</th>\n",
              "      <td>84879</td>\n",
              "      <td>1408</td>\n",
              "    </tr>\n",
              "    <tr>\n",
              "      <th>4</th>\n",
              "      <td>47566</td>\n",
              "      <td>1397</td>\n",
              "    </tr>\n",
              "  </tbody>\n",
              "</table>\n",
              "</div>"
            ],
            "text/plain": [
              "  StockCode_Name  Count\n",
              "0         85123A   2035\n",
              "1          22423   1724\n",
              "2         85099B   1618\n",
              "3          84879   1408\n",
              "4          47566   1397"
            ]
          },
          "metadata": {
            "tags": []
          },
          "execution_count": 23
        }
      ]
    },
    {
      "cell_type": "code",
      "metadata": {
        "colab": {
          "base_uri": "https://localhost:8080/",
          "height": 195
        },
        "id": "emOdqmt6gU86",
        "outputId": "74bba41c-7079-4f36-a786-5d38c8cc7b13"
      },
      "source": [
        "StockCode_df.tail()"
      ],
      "execution_count": null,
      "outputs": [
        {
          "output_type": "execute_result",
          "data": {
            "text/html": [
              "<div>\n",
              "<style scoped>\n",
              "    .dataframe tbody tr th:only-of-type {\n",
              "        vertical-align: middle;\n",
              "    }\n",
              "\n",
              "    .dataframe tbody tr th {\n",
              "        vertical-align: top;\n",
              "    }\n",
              "\n",
              "    .dataframe thead th {\n",
              "        text-align: right;\n",
              "    }\n",
              "</style>\n",
              "<table border=\"1\" class=\"dataframe\">\n",
              "  <thead>\n",
              "    <tr style=\"text-align: right;\">\n",
              "      <th></th>\n",
              "      <th>StockCode_Name</th>\n",
              "      <th>Count</th>\n",
              "    </tr>\n",
              "  </thead>\n",
              "  <tbody>\n",
              "    <tr>\n",
              "      <th>3660</th>\n",
              "      <td>21839</td>\n",
              "      <td>1</td>\n",
              "    </tr>\n",
              "    <tr>\n",
              "      <th>3661</th>\n",
              "      <td>84963B</td>\n",
              "      <td>1</td>\n",
              "    </tr>\n",
              "    <tr>\n",
              "      <th>3662</th>\n",
              "      <td>90202A</td>\n",
              "      <td>1</td>\n",
              "    </tr>\n",
              "    <tr>\n",
              "      <th>3663</th>\n",
              "      <td>90041</td>\n",
              "      <td>1</td>\n",
              "    </tr>\n",
              "    <tr>\n",
              "      <th>3664</th>\n",
              "      <td>90118</td>\n",
              "      <td>1</td>\n",
              "    </tr>\n",
              "  </tbody>\n",
              "</table>\n",
              "</div>"
            ],
            "text/plain": [
              "     StockCode_Name  Count\n",
              "3660          21839      1\n",
              "3661         84963B      1\n",
              "3662         90202A      1\n",
              "3663          90041      1\n",
              "3664          90118      1"
            ]
          },
          "metadata": {
            "tags": []
          },
          "execution_count": 24
        }
      ]
    },
    {
      "cell_type": "code",
      "metadata": {
        "colab": {
          "base_uri": "https://localhost:8080/",
          "height": 535
        },
        "id": "0Miv5kdYgVcV",
        "outputId": "1cd37412-dd8a-47f1-dbee-e56da6beb698"
      },
      "source": [
        "plt.figure(figsize=(13,8))\n",
        "plt.title('Top 5 Stock Name')\n",
        "sns.barplot(x='StockCode_Name',y='Count',data=StockCode_df[:5])"
      ],
      "execution_count": null,
      "outputs": [
        {
          "output_type": "execute_result",
          "data": {
            "text/plain": [
              "<matplotlib.axes._subplots.AxesSubplot at 0x7fd2f8e4f898>"
            ]
          },
          "metadata": {
            "tags": []
          },
          "execution_count": 25
        },
        {
          "output_type": "display_data",
          "data": {
            "image/png": "[encoded data removed]",
            "text/plain": [
              "<Figure size 936x576 with 1 Axes>"
            ]
          },
          "metadata": {
            "tags": []
          }
        }
      ]
    },
    {
      "cell_type": "code",
      "metadata": {
        "colab": {
          "base_uri": "https://localhost:8080/",
          "height": 535
        },
        "id": "KoxS_GL3jyzl",
        "outputId": "73bc99b6-e39a-4f7a-b766-90a9ba5c70a6"
      },
      "source": [
        "plt.figure(figsize=(13,8))\n",
        "plt.title('Bottom 5 Stock Name')\n",
        "sns.barplot(x='StockCode_Name',y='Count',data=StockCode_df[-5:])"
      ],
      "execution_count": null,
      "outputs": [
        {
          "output_type": "execute_result",
          "data": {
            "text/plain": [
              "<matplotlib.axes._subplots.AxesSubplot at 0x7fd2f64c0f28>"
            ]
          },
          "metadata": {
            "tags": []
          },
          "execution_count": 26
        },
        {
          "output_type": "display_data",
          "data": {
            "image/png": "[encoded data removed]",
            "text/plain": [
              "<Figure size 936x576 with 1 Axes>"
            ]
          },
          "metadata": {
            "tags": []
          }
        }
      ]
    },
    {
      "cell_type": "code",
      "metadata": {
        "colab": {
          "base_uri": "https://localhost:8080/",
          "height": 195
        },
        "id": "keX13LNHPWa2",
        "outputId": "32945bae-a061-4818-8410-344174213c5e"
      },
      "source": [
        "country_df=df['Country'].value_counts().reset_index()\n",
        "country_df.rename(columns={'index': 'Country_Name'}, inplace=True)\n",
        "country_df.rename(columns={'Country': 'Count'}, inplace=True)\n",
        "country_df.head()"
      ],
      "execution_count": null,
      "outputs": [
        {
          "output_type": "execute_result",
          "data": {
            "text/html": [
              "<div>\n",
              "<style scoped>\n",
              "    .dataframe tbody tr th:only-of-type {\n",
              "        vertical-align: middle;\n",
              "    }\n",
              "\n",
              "    .dataframe tbody tr th {\n",
              "        vertical-align: top;\n",
              "    }\n",
              "\n",
              "    .dataframe thead th {\n",
              "        text-align: right;\n",
              "    }\n",
              "</style>\n",
              "<table border=\"1\" class=\"dataframe\">\n",
              "  <thead>\n",
              "    <tr style=\"text-align: right;\">\n",
              "      <th></th>\n",
              "      <th>Country_Name</th>\n",
              "      <th>Count</th>\n",
              "    </tr>\n",
              "  </thead>\n",
              "  <tbody>\n",
              "    <tr>\n",
              "      <th>0</th>\n",
              "      <td>United Kingdom</td>\n",
              "      <td>354345</td>\n",
              "    </tr>\n",
              "    <tr>\n",
              "      <th>1</th>\n",
              "      <td>Germany</td>\n",
              "      <td>9042</td>\n",
              "    </tr>\n",
              "    <tr>\n",
              "      <th>2</th>\n",
              "      <td>France</td>\n",
              "      <td>8342</td>\n",
              "    </tr>\n",
              "    <tr>\n",
              "      <th>3</th>\n",
              "      <td>EIRE</td>\n",
              "      <td>7238</td>\n",
              "    </tr>\n",
              "    <tr>\n",
              "      <th>4</th>\n",
              "      <td>Spain</td>\n",
              "      <td>2485</td>\n",
              "    </tr>\n",
              "  </tbody>\n",
              "</table>\n",
              "</div>"
            ],
            "text/plain": [
              "     Country_Name   Count\n",
              "0  United Kingdom  354345\n",
              "1         Germany    9042\n",
              "2          France    8342\n",
              "3            EIRE    7238\n",
              "4           Spain    2485"
            ]
          },
          "metadata": {
            "tags": []
          },
          "execution_count": 27
        }
      ]
    },
    {
      "cell_type": "code",
      "metadata": {
        "colab": {
          "base_uri": "https://localhost:8080/",
          "height": 195
        },
        "id": "SjNzofF89u0p",
        "outputId": "ac24e689-84e6-44a1-ce0b-e42cee758017"
      },
      "source": [
        "country_df.tail()"
      ],
      "execution_count": null,
      "outputs": [
        {
          "output_type": "execute_result",
          "data": {
            "text/html": [
              "<div>\n",
              "<style scoped>\n",
              "    .dataframe tbody tr th:only-of-type {\n",
              "        vertical-align: middle;\n",
              "    }\n",
              "\n",
              "    .dataframe tbody tr th {\n",
              "        vertical-align: top;\n",
              "    }\n",
              "\n",
              "    .dataframe thead th {\n",
              "        text-align: right;\n",
              "    }\n",
              "</style>\n",
              "<table border=\"1\" class=\"dataframe\">\n",
              "  <thead>\n",
              "    <tr style=\"text-align: right;\">\n",
              "      <th></th>\n",
              "      <th>Country_Name</th>\n",
              "      <th>Count</th>\n",
              "    </tr>\n",
              "  </thead>\n",
              "  <tbody>\n",
              "    <tr>\n",
              "      <th>32</th>\n",
              "      <td>Lithuania</td>\n",
              "      <td>35</td>\n",
              "    </tr>\n",
              "    <tr>\n",
              "      <th>33</th>\n",
              "      <td>Brazil</td>\n",
              "      <td>32</td>\n",
              "    </tr>\n",
              "    <tr>\n",
              "      <th>34</th>\n",
              "      <td>Czech Republic</td>\n",
              "      <td>25</td>\n",
              "    </tr>\n",
              "    <tr>\n",
              "      <th>35</th>\n",
              "      <td>Bahrain</td>\n",
              "      <td>17</td>\n",
              "    </tr>\n",
              "    <tr>\n",
              "      <th>36</th>\n",
              "      <td>Saudi Arabia</td>\n",
              "      <td>9</td>\n",
              "    </tr>\n",
              "  </tbody>\n",
              "</table>\n",
              "</div>"
            ],
            "text/plain": [
              "      Country_Name  Count\n",
              "32       Lithuania     35\n",
              "33          Brazil     32\n",
              "34  Czech Republic     25\n",
              "35         Bahrain     17\n",
              "36    Saudi Arabia      9"
            ]
          },
          "metadata": {
            "tags": []
          },
          "execution_count": 28
        }
      ]
    },
    {
      "cell_type": "code",
      "metadata": {
        "colab": {
          "base_uri": "https://localhost:8080/",
          "height": 535
        },
        "id": "K0VThZU_95zw",
        "outputId": "a1e24d85-37ed-485b-a5c6-fb93d19b99c6"
      },
      "source": [
        "plt.figure(figsize=(13,8))\n",
        "plt.title('Top 5 Country based on the Most Numbers Customers')\n",
        "sns.barplot(x='Country_Name',y='Count',data=country_df[:5])"
      ],
      "execution_count": null,
      "outputs": [
        {
          "output_type": "execute_result",
          "data": {
            "text/plain": [
              "<matplotlib.axes._subplots.AxesSubplot at 0x7fd2f41d1978>"
            ]
          },
          "metadata": {
            "tags": []
          },
          "execution_count": 29
        },
        {
          "output_type": "display_data",
          "data": {
            "image/png": "[encoded data removed]",
            "text/plain": [
              "<Figure size 936x576 with 1 Axes>"
            ]
          },
          "metadata": {
            "tags": []
          }
        }
      ]
    },
    {
      "cell_type": "code",
      "metadata": {
        "colab": {
          "base_uri": "https://localhost:8080/",
          "height": 535
        },
        "id": "TPIew4FL958v",
        "outputId": "a071efe0-9544-4ca7-bfe6-40adab495df1"
      },
      "source": [
        "plt.figure(figsize=(13,8))\n",
        "plt.title('Top 5 Country based least Numbers of  Customers')\n",
        "sns.barplot(x='Country_Name',y='Count',data=country_df[-5:])"
      ],
      "execution_count": null,
      "outputs": [
        {
          "output_type": "execute_result",
          "data": {
            "text/plain": [
              "<matplotlib.axes._subplots.AxesSubplot at 0x7fd2f30ae160>"
            ]
          },
          "metadata": {
            "tags": []
          },
          "execution_count": 30
        },
        {
          "output_type": "display_data",
          "data": {
            "image/png": "[encoded data removed]",
            "text/plain": [
              "<Figure size 936x576 with 1 Axes>"
            ]
          },
          "metadata": {
            "tags": []
          }
        }
      ]
    },
    {
      "cell_type": "code",
      "metadata": {
        "colab": {
          "base_uri": "https://localhost:8080/",
          "height": 314
        },
        "id": "mAQkVsVIWiAr",
        "outputId": "12757163-db25-4870-874d-2997b123dc56"
      },
      "source": [
        "df[df['Country']=='Saudi Arabia']"
      ],
      "execution_count": null,
      "outputs": [
        {
          "output_type": "execute_result",
          "data": {
            "text/html": [
              "<div>\n",
              "<style scoped>\n",
              "    .dataframe tbody tr th:only-of-type {\n",
              "        vertical-align: middle;\n",
              "    }\n",
              "\n",
              "    .dataframe tbody tr th {\n",
              "        vertical-align: top;\n",
              "    }\n",
              "\n",
              "    .dataframe thead th {\n",
              "        text-align: right;\n",
              "    }\n",
              "</style>\n",
              "<table border=\"1\" class=\"dataframe\">\n",
              "  <thead>\n",
              "    <tr style=\"text-align: right;\">\n",
              "      <th></th>\n",
              "      <th>InvoiceNo</th>\n",
              "      <th>StockCode</th>\n",
              "      <th>Description</th>\n",
              "      <th>Quantity</th>\n",
              "      <th>InvoiceDate</th>\n",
              "      <th>UnitPrice</th>\n",
              "      <th>CustomerID</th>\n",
              "      <th>Country</th>\n",
              "    </tr>\n",
              "  </thead>\n",
              "  <tbody>\n",
              "    <tr>\n",
              "      <th>100810</th>\n",
              "      <td>544838</td>\n",
              "      <td>22915</td>\n",
              "      <td>ASSORTED BOTTLE TOP  MAGNETS</td>\n",
              "      <td>12</td>\n",
              "      <td>2011-02-24 10:34:00</td>\n",
              "      <td>0.42</td>\n",
              "      <td>12565.0</td>\n",
              "      <td>Saudi Arabia</td>\n",
              "    </tr>\n",
              "    <tr>\n",
              "      <th>100811</th>\n",
              "      <td>544838</td>\n",
              "      <td>22363</td>\n",
              "      <td>GLASS JAR MARMALADE</td>\n",
              "      <td>6</td>\n",
              "      <td>2011-02-24 10:34:00</td>\n",
              "      <td>2.95</td>\n",
              "      <td>12565.0</td>\n",
              "      <td>Saudi Arabia</td>\n",
              "    </tr>\n",
              "    <tr>\n",
              "      <th>100812</th>\n",
              "      <td>544838</td>\n",
              "      <td>22362</td>\n",
              "      <td>GLASS JAR PEACOCK BATH SALTS</td>\n",
              "      <td>6</td>\n",
              "      <td>2011-02-24 10:34:00</td>\n",
              "      <td>2.95</td>\n",
              "      <td>12565.0</td>\n",
              "      <td>Saudi Arabia</td>\n",
              "    </tr>\n",
              "    <tr>\n",
              "      <th>100813</th>\n",
              "      <td>544838</td>\n",
              "      <td>22361</td>\n",
              "      <td>GLASS JAR DAISY FRESH COTTON WOOL</td>\n",
              "      <td>6</td>\n",
              "      <td>2011-02-24 10:34:00</td>\n",
              "      <td>2.95</td>\n",
              "      <td>12565.0</td>\n",
              "      <td>Saudi Arabia</td>\n",
              "    </tr>\n",
              "    <tr>\n",
              "      <th>100814</th>\n",
              "      <td>544838</td>\n",
              "      <td>22553</td>\n",
              "      <td>PLASTERS IN TIN SKULLS</td>\n",
              "      <td>12</td>\n",
              "      <td>2011-02-24 10:34:00</td>\n",
              "      <td>1.65</td>\n",
              "      <td>12565.0</td>\n",
              "      <td>Saudi Arabia</td>\n",
              "    </tr>\n",
              "    <tr>\n",
              "      <th>100815</th>\n",
              "      <td>544838</td>\n",
              "      <td>22555</td>\n",
              "      <td>PLASTERS IN TIN STRONGMAN</td>\n",
              "      <td>12</td>\n",
              "      <td>2011-02-24 10:34:00</td>\n",
              "      <td>1.65</td>\n",
              "      <td>12565.0</td>\n",
              "      <td>Saudi Arabia</td>\n",
              "    </tr>\n",
              "    <tr>\n",
              "      <th>100816</th>\n",
              "      <td>544838</td>\n",
              "      <td>22556</td>\n",
              "      <td>PLASTERS IN TIN CIRCUS PARADE</td>\n",
              "      <td>12</td>\n",
              "      <td>2011-02-24 10:34:00</td>\n",
              "      <td>1.65</td>\n",
              "      <td>12565.0</td>\n",
              "      <td>Saudi Arabia</td>\n",
              "    </tr>\n",
              "    <tr>\n",
              "      <th>100817</th>\n",
              "      <td>544838</td>\n",
              "      <td>20781</td>\n",
              "      <td>GOLD EAR MUFF HEADPHONES</td>\n",
              "      <td>2</td>\n",
              "      <td>2011-02-24 10:34:00</td>\n",
              "      <td>5.49</td>\n",
              "      <td>12565.0</td>\n",
              "      <td>Saudi Arabia</td>\n",
              "    </tr>\n",
              "    <tr>\n",
              "      <th>100818</th>\n",
              "      <td>544838</td>\n",
              "      <td>22969</td>\n",
              "      <td>HOMEMADE JAM SCENTED CANDLES</td>\n",
              "      <td>12</td>\n",
              "      <td>2011-02-24 10:34:00</td>\n",
              "      <td>1.45</td>\n",
              "      <td>12565.0</td>\n",
              "      <td>Saudi Arabia</td>\n",
              "    </tr>\n",
              "  </tbody>\n",
              "</table>\n",
              "</div>"
            ],
            "text/plain": [
              "       InvoiceNo StockCode  ... CustomerID       Country\n",
              "100810    544838     22915  ...    12565.0  Saudi Arabia\n",
              "100811    544838     22363  ...    12565.0  Saudi Arabia\n",
              "100812    544838     22362  ...    12565.0  Saudi Arabia\n",
              "100813    544838     22361  ...    12565.0  Saudi Arabia\n",
              "100814    544838     22553  ...    12565.0  Saudi Arabia\n",
              "100815    544838     22555  ...    12565.0  Saudi Arabia\n",
              "100816    544838     22556  ...    12565.0  Saudi Arabia\n",
              "100817    544838     20781  ...    12565.0  Saudi Arabia\n",
              "100818    544838     22969  ...    12565.0  Saudi Arabia\n",
              "\n",
              "[9 rows x 8 columns]"
            ]
          },
          "metadata": {
            "tags": []
          },
          "execution_count": 31
        }
      ]
    },
    {
      "cell_type": "code",
      "metadata": {
        "id": "uCHjUB_usQx4"
      },
      "source": [
        ""
      ],
      "execution_count": null,
      "outputs": []
    },
    {
      "cell_type": "code",
      "metadata": {
        "colab": {
          "base_uri": "https://localhost:8080/",
          "height": 644
        },
        "id": "fDpX06f496Dr",
        "outputId": "acbe7d0e-5b5e-47a6-95eb-825ca8f27a24"
      },
      "source": [
        "#distribution of Quantity\n",
        "plt.figure(figsize=(15,10))\n",
        "plt.title('distribution of Quantity')\n",
        "sns.distplot(df['Quantity'],color=\"B\")"
      ],
      "execution_count": null,
      "outputs": [
        {
          "output_type": "execute_result",
          "data": {
            "text/plain": [
              "<matplotlib.axes._subplots.AxesSubplot at 0x7fd2f63cb9b0>"
            ]
          },
          "metadata": {
            "tags": []
          },
          "execution_count": 32
        },
        {
          "output_type": "display_data",
          "data": {
            "image/png": "[encoded data removed]",
            "text/plain": [
              "<Figure size 1080x720 with 1 Axes>"
            ]
          },
          "metadata": {
            "tags": []
          }
        }
      ]
    },
    {
      "cell_type": "code",
      "metadata": {
        "colab": {
          "base_uri": "https://localhost:8080/",
          "height": 644
        },
        "id": "ybFAEMNG96HN",
        "outputId": "73d98983-bca7-4989-d688-0c97b51d42dc"
      },
      "source": [
        "\n",
        "plt.figure(figsize=(15,10))\n",
        "plt.title('log distribution of Quantity')\n",
        "sns.distplot(np.log(df['Quantity']),color=\"B\")"
      ],
      "execution_count": null,
      "outputs": [
        {
          "output_type": "execute_result",
          "data": {
            "text/plain": [
              "<matplotlib.axes._subplots.AxesSubplot at 0x7fd2f63cb828>"
            ]
          },
          "metadata": {
            "tags": []
          },
          "execution_count": 33
        },
        {
          "output_type": "display_data",
          "data": {
            "image/png": "[encoded data removed]",
            "text/plain": [
              "<Figure size 1080x720 with 1 Axes>"
            ]
          },
          "metadata": {
            "tags": []
          }
        }
      ]
    },
    {
      "cell_type": "code",
      "metadata": {
        "colab": {
          "base_uri": "https://localhost:8080/"
        },
        "id": "yLdEatE8BPKu",
        "outputId": "5b1f251d-7c18-485b-f59f-18df4ef1d90b"
      },
      "source": [
        "df['Quantity'].unique()"
      ],
      "execution_count": null,
      "outputs": [
        {
          "output_type": "execute_result",
          "data": {
            "text/plain": [
              "array([    6,     8,     2,    32,     3,     4,    24,    12,    48,\n",
              "          18,    20,    36,    80,    64,    10,   120,    96,    23,\n",
              "           5,     1,    50,    40,   100,   192,   432,   144,   288,\n",
              "          16,     9,   128,    25,    30,    28,     7,    72,   200,\n",
              "         600,   480,    14,    11,    70,   252,    60,   216,   384,\n",
              "          27,   108,    52,    75,   270,    42,   240,    90,   320,\n",
              "          17,  1824,   204,    69,   160,  2880,  1400,    19,    39,\n",
              "          56,    13,  1440,    15,   720,   156,   324,    41,   402,\n",
              "         378,   150,   300,    22,    34,   408,   972,   208,  1008,\n",
              "          26,  1000,  1488,   250,  1394,   400,   110,    37,    78,\n",
              "          21,   272,    84,    47,  1728,    38,    53,    76,   576,\n",
              "          29,  2400,   500,   180,   960,  1296,   147,   168,   256,\n",
              "          54,    31,   860,  1010,  1356,  1284,   186,   114,   360,\n",
              "        1930,  2000,  3114,  1300,   670,   176,   648,    62, 74215,\n",
              "          89,    33,    46,   112,   456,   900,    45,   130,  2592,\n",
              "         420,   800,    35,  1200,   864,   504,  1056,  1500,   280,\n",
              "         407,   141,  3906,  1152,   198,   117,   125,    81,   768,\n",
              "          88,    43,   700,  2160,    55,   342,   304,   640,   220,\n",
              "         350,   312,   392,   330,   151,    44,   462,    66,   492,\n",
              "         273,    65,    85,  1350,   428,   336,   101,   132,   227,\n",
              "        2700,   222,   228,   246,   906,   756,   888,   552,   224,\n",
              "         738,   608,  4300,   276,    58,    98,    51,    74,  1600,\n",
              "         323,  1515,   660,   104,   264,   188,   588,   612,   152,\n",
              "          49,   430,   701,   828,   540,   696,   560,   121,   512,\n",
              "         291,  3186,    83,    87,    79,   109,   129,   261,   352,\n",
              "         102,   348,  1900,   157,   116,   968,   684,   824,   196,\n",
              "         124,   248,   410,   236,   230,   210,   448,   140,    86,\n",
              "         840,   450,    93,   494,    92,  1788,   624,   744,   416,\n",
              "         496,   396,   306,  1878,  1944,   666,   708,  1428,   852,\n",
              "        1412,   528,   183,  1540,   672,    67,    63,    94,   255,\n",
              "          57,   126,   468,  4800,   912,  1992,   136,  3000,   232,\n",
              "         832,   992,   630,  1020,  2100,   162,   234,   244, 12540,\n",
              "          95,   760,   139,   115,   774,  2040,  1120,    59,   490,\n",
              "         388,   620,  1404,   698, 80995])"
            ]
          },
          "metadata": {
            "tags": []
          },
          "execution_count": 34
        }
      ]
    },
    {
      "cell_type": "code",
      "metadata": {
        "id": "x7GfgQ7zBSrm"
      },
      "source": [
        ""
      ],
      "execution_count": null,
      "outputs": []
    },
    {
      "cell_type": "code",
      "metadata": {
        "colab": {
          "base_uri": "https://localhost:8080/"
        },
        "id": "iUMW5-jiBY4Y",
        "outputId": "a43d77cf-c1d1-43b9-a728-dd885100e08e"
      },
      "source": [
        "df.info()"
      ],
      "execution_count": null,
      "outputs": [
        {
          "output_type": "stream",
          "text": [
            "<class 'pandas.core.frame.DataFrame'>\n",
            "Int64Index: 397924 entries, 0 to 541908\n",
            "Data columns (total 8 columns):\n",
            " #   Column       Non-Null Count   Dtype         \n",
            "---  ------       --------------   -----         \n",
            " 0   InvoiceNo    397924 non-null  object        \n",
            " 1   StockCode    397924 non-null  object        \n",
            " 2   Description  397924 non-null  object        \n",
            " 3   Quantity     397924 non-null  int64         \n",
            " 4   InvoiceDate  397924 non-null  datetime64[ns]\n",
            " 5   UnitPrice    397924 non-null  float64       \n",
            " 6   CustomerID   397924 non-null  float64       \n",
            " 7   Country      397924 non-null  object        \n",
            "dtypes: datetime64[ns](1), float64(2), int64(1), object(4)\n",
            "memory usage: 27.3+ MB\n"
          ],
          "name": "stdout"
        }
      ]
    },
    {
      "cell_type": "code",
      "metadata": {
        "colab": {
          "base_uri": "https://localhost:8080/",
          "height": 644
        },
        "id": "DYYfUNI_CKm-",
        "outputId": "1e95e669-84e7-4e77-b832-6679be43ddff"
      },
      "source": [
        "\n",
        "plt.figure(figsize=(15,10))\n",
        "plt.title('distribution of Quantity')\n",
        "sns.distplot(np.log(df['Quantity']),color=\"B\")"
      ],
      "execution_count": null,
      "outputs": [
        {
          "output_type": "execute_result",
          "data": {
            "text/plain": [
              "<matplotlib.axes._subplots.AxesSubplot at 0x7fd2f5bcd898>"
            ]
          },
          "metadata": {
            "tags": []
          },
          "execution_count": 36
        },
        {
          "output_type": "display_data",
          "data": {
            "image/png": "[encoded data removed]",
            "text/plain": [
              "<Figure size 1080x720 with 1 Axes>"
            ]
          },
          "metadata": {
            "tags": []
          }
        }
      ]
    },
    {
      "cell_type": "code",
      "metadata": {
        "colab": {
          "base_uri": "https://localhost:8080/",
          "height": 644
        },
        "id": "_xXvo059rKF5",
        "outputId": "69effe44-e258-4968-b346-4d1899224353"
      },
      "source": [
        "\n",
        "plt.figure(figsize=(15,10))\n",
        "plt.title('distribution of UnitPrice')\n",
        "sns.distplot(df['UnitPrice'],color=\"B\")"
      ],
      "execution_count": null,
      "outputs": [
        {
          "output_type": "execute_result",
          "data": {
            "text/plain": [
              "<matplotlib.axes._subplots.AxesSubplot at 0x7fd2f43fc208>"
            ]
          },
          "metadata": {
            "tags": []
          },
          "execution_count": 37
        },
        {
          "output_type": "display_data",
          "data": {
            "image/png": "[encoded data removed]",
            "text/plain": [
              "<Figure size 1080x720 with 1 Axes>"
            ]
          },
          "metadata": {
            "tags": []
          }
        }
      ]
    },
    {
      "cell_type": "code",
      "metadata": {
        "colab": {
          "base_uri": "https://localhost:8080/",
          "height": 47
        },
        "id": "w4KDQWNfrQtg",
        "outputId": "391beec5-cc97-4f2a-f529-42d89ac0160e"
      },
      "source": [
        "df[df['UnitPrice']<0]"
      ],
      "execution_count": null,
      "outputs": [
        {
          "output_type": "execute_result",
          "data": {
            "text/html": [
              "<div>\n",
              "<style scoped>\n",
              "    .dataframe tbody tr th:only-of-type {\n",
              "        vertical-align: middle;\n",
              "    }\n",
              "\n",
              "    .dataframe tbody tr th {\n",
              "        vertical-align: top;\n",
              "    }\n",
              "\n",
              "    .dataframe thead th {\n",
              "        text-align: right;\n",
              "    }\n",
              "</style>\n",
              "<table border=\"1\" class=\"dataframe\">\n",
              "  <thead>\n",
              "    <tr style=\"text-align: right;\">\n",
              "      <th></th>\n",
              "      <th>InvoiceNo</th>\n",
              "      <th>StockCode</th>\n",
              "      <th>Description</th>\n",
              "      <th>Quantity</th>\n",
              "      <th>InvoiceDate</th>\n",
              "      <th>UnitPrice</th>\n",
              "      <th>CustomerID</th>\n",
              "      <th>Country</th>\n",
              "    </tr>\n",
              "  </thead>\n",
              "  <tbody>\n",
              "  </tbody>\n",
              "</table>\n",
              "</div>"
            ],
            "text/plain": [
              "Empty DataFrame\n",
              "Columns: [InvoiceNo, StockCode, Description, Quantity, InvoiceDate, UnitPrice, CustomerID, Country]\n",
              "Index: []"
            ]
          },
          "metadata": {
            "tags": []
          },
          "execution_count": 38
        }
      ]
    },
    {
      "cell_type": "code",
      "metadata": {
        "id": "8g_SUDVFrlQ0"
      },
      "source": [
        "df=df[df['UnitPrice']>0]"
      ],
      "execution_count": null,
      "outputs": []
    },
    {
      "cell_type": "code",
      "metadata": {
        "colab": {
          "base_uri": "https://localhost:8080/",
          "height": 195
        },
        "id": "pGtV_h_2EeJX",
        "outputId": "75073d5f-ae5f-49d7-a82b-985ed94fdad9"
      },
      "source": [
        "df.head(5)"
      ],
      "execution_count": null,
      "outputs": [
        {
          "output_type": "execute_result",
          "data": {
            "text/html": [
              "<div>\n",
              "<style scoped>\n",
              "    .dataframe tbody tr th:only-of-type {\n",
              "        vertical-align: middle;\n",
              "    }\n",
              "\n",
              "    .dataframe tbody tr th {\n",
              "        vertical-align: top;\n",
              "    }\n",
              "\n",
              "    .dataframe thead th {\n",
              "        text-align: right;\n",
              "    }\n",
              "</style>\n",
              "<table border=\"1\" class=\"dataframe\">\n",
              "  <thead>\n",
              "    <tr style=\"text-align: right;\">\n",
              "      <th></th>\n",
              "      <th>InvoiceNo</th>\n",
              "      <th>StockCode</th>\n",
              "      <th>Description</th>\n",
              "      <th>Quantity</th>\n",
              "      <th>InvoiceDate</th>\n",
              "      <th>UnitPrice</th>\n",
              "      <th>CustomerID</th>\n",
              "      <th>Country</th>\n",
              "    </tr>\n",
              "  </thead>\n",
              "  <tbody>\n",
              "    <tr>\n",
              "      <th>0</th>\n",
              "      <td>536365</td>\n",
              "      <td>85123A</td>\n",
              "      <td>WHITE HANGING HEART T-LIGHT HOLDER</td>\n",
              "      <td>6</td>\n",
              "      <td>2010-12-01 08:26:00</td>\n",
              "      <td>2.55</td>\n",
              "      <td>17850.0</td>\n",
              "      <td>United Kingdom</td>\n",
              "    </tr>\n",
              "    <tr>\n",
              "      <th>1</th>\n",
              "      <td>536365</td>\n",
              "      <td>71053</td>\n",
              "      <td>WHITE METAL LANTERN</td>\n",
              "      <td>6</td>\n",
              "      <td>2010-12-01 08:26:00</td>\n",
              "      <td>3.39</td>\n",
              "      <td>17850.0</td>\n",
              "      <td>United Kingdom</td>\n",
              "    </tr>\n",
              "    <tr>\n",
              "      <th>2</th>\n",
              "      <td>536365</td>\n",
              "      <td>84406B</td>\n",
              "      <td>CREAM CUPID HEARTS COAT HANGER</td>\n",
              "      <td>8</td>\n",
              "      <td>2010-12-01 08:26:00</td>\n",
              "      <td>2.75</td>\n",
              "      <td>17850.0</td>\n",
              "      <td>United Kingdom</td>\n",
              "    </tr>\n",
              "    <tr>\n",
              "      <th>3</th>\n",
              "      <td>536365</td>\n",
              "      <td>84029G</td>\n",
              "      <td>KNITTED UNION FLAG HOT WATER BOTTLE</td>\n",
              "      <td>6</td>\n",
              "      <td>2010-12-01 08:26:00</td>\n",
              "      <td>3.39</td>\n",
              "      <td>17850.0</td>\n",
              "      <td>United Kingdom</td>\n",
              "    </tr>\n",
              "    <tr>\n",
              "      <th>4</th>\n",
              "      <td>536365</td>\n",
              "      <td>84029E</td>\n",
              "      <td>RED WOOLLY HOTTIE WHITE HEART.</td>\n",
              "      <td>6</td>\n",
              "      <td>2010-12-01 08:26:00</td>\n",
              "      <td>3.39</td>\n",
              "      <td>17850.0</td>\n",
              "      <td>United Kingdom</td>\n",
              "    </tr>\n",
              "  </tbody>\n",
              "</table>\n",
              "</div>"
            ],
            "text/plain": [
              "  InvoiceNo StockCode  ... CustomerID         Country\n",
              "0    536365    85123A  ...    17850.0  United Kingdom\n",
              "1    536365     71053  ...    17850.0  United Kingdom\n",
              "2    536365    84406B  ...    17850.0  United Kingdom\n",
              "3    536365    84029G  ...    17850.0  United Kingdom\n",
              "4    536365    84029E  ...    17850.0  United Kingdom\n",
              "\n",
              "[5 rows x 8 columns]"
            ]
          },
          "metadata": {
            "tags": []
          },
          "execution_count": 40
        }
      ]
    }
  ]
}